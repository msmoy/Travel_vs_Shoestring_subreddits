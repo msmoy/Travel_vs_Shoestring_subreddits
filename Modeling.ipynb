{
 "cells": [
  {
   "cell_type": "markdown",
   "metadata": {},
   "source": [
    "### Executive Summary\n",
    "\n",
    "At Reddit, as a company, we're always looking for ways to increase profit. For this project, my first goal is to create a model that will help improve the user experience. I would then conduct research on how that improvement affects the number of premium accounts. Keep in mind, this is going to be an ongoing project to find a long term solution that will help create a steady growth in profit. The great news is that we are using data that is readily available, which should be more cost effective, and would allow us to quickly implement this change. \n",
    "\n",
    "In order to improve user experience, my model will be taking in words from a post to predict which subreddit it belongs to. The user would then get suggestions on related subreddits that they may be interested. Similar to Instagram, when you start following an account, you instantly get requests to follow other related accounts. For this test, I created a model comparing the Travel and Shoestring subreddit. As a reminder, the Shoestring subreddit are for those that like to travel on a budget. \n",
    "\n",
    "This falls along the lines of our current strategy, which is to keep users engaged and motivated to be active in subreddits they follow. While the length of time someone spends on a site is important and useful, I'm more interested in knowing whether it increases the number of members to sign up for the Premium services. One of the perks for Premium is to avoid ads, which someone may want after they've been exploring Reddit for a while. As you scroll through the posts, those embedded advertisements can become a hassle and a distraction.\n",
    "\n",
    "Due to the fact that we are going to be testing and modeling on data between related subreddit topics, differentiating between the two can be quite challenging. Currently, my model is making correct predictions about 73% of the time. While it's relatively good, there are improvements and adjustments that I'd like to make to increase the accuracy score more. "
   ]
  },
  {
   "cell_type": "markdown",
   "metadata": {},
   "source": [
    "### Cleaning data and modeling"
   ]
  },
  {
   "cell_type": "code",
   "execution_count": 1,
   "metadata": {},
   "outputs": [],
   "source": [
    "import pandas as pd\n",
    "import numpy as np\n",
    "import glob\n",
    "import matplotlib.pyplot as plt\n",
    "import seaborn as sns\n",
    "from sklearn.model_selection import train_test_split, GridSearchCV, cross_val_score\n",
    "from sklearn.linear_model import LogisticRegression\n",
    "from sklearn.feature_extraction.text import CountVectorizer, TfidfVectorizer\n",
    "from sklearn.pipeline import Pipeline\n",
    "\n",
    "from sklearn import datasets\n",
    "from sklearn.naive_bayes import MultinomialNB, GaussianNB\n",
    "\n",
    "from sklearn.tree import DecisionTreeClassifier\n",
    "from sklearn.ensemble import BaggingClassifier, GradientBoostingClassifier, RandomForestClassifier\n",
    "from sklearn.metrics import accuracy_score"
   ]
  },
  {
   "cell_type": "code",
   "execution_count": 2,
   "metadata": {
    "scrolled": true
   },
   "outputs": [
    {
     "data": {
      "text/html": [
       "<div>\n",
       "<style scoped>\n",
       "    .dataframe tbody tr th:only-of-type {\n",
       "        vertical-align: middle;\n",
       "    }\n",
       "\n",
       "    .dataframe tbody tr th {\n",
       "        vertical-align: top;\n",
       "    }\n",
       "\n",
       "    .dataframe thead th {\n",
       "        text-align: right;\n",
       "    }\n",
       "</style>\n",
       "<table border=\"1\" class=\"dataframe\">\n",
       "  <thead>\n",
       "    <tr style=\"text-align: right;\">\n",
       "      <th></th>\n",
       "      <th>title</th>\n",
       "      <th>posts</th>\n",
       "      <th>subreddit</th>\n",
       "    </tr>\n",
       "  </thead>\n",
       "  <tbody>\n",
       "    <tr>\n",
       "      <th>0</th>\n",
       "      <td>Traveling to NYC...</td>\n",
       "      <td>I am traveling to NYC  in a week. What areas o...</td>\n",
       "      <td>Shoestring</td>\n",
       "    </tr>\n",
       "    <tr>\n",
       "      <th>1</th>\n",
       "      <td>Looking for a mini getaway trip.</td>\n",
       "      <td>You’re traveling with your SO this Fall and ha...</td>\n",
       "      <td>Shoestring</td>\n",
       "    </tr>\n",
       "    <tr>\n",
       "      <th>2</th>\n",
       "      <td>Emergency travel - Standby ticket?</td>\n",
       "      <td>Hi everyone,\\n\\nMy little sister was involved ...</td>\n",
       "      <td>Shoestring</td>\n",
       "    </tr>\n",
       "    <tr>\n",
       "      <th>3</th>\n",
       "      <td>Should I ditch my greyhound ticket for a plane...</td>\n",
       "      <td>So I will be going on a trip soon, it's my fir...</td>\n",
       "      <td>Shoestring</td>\n",
       "    </tr>\n",
       "    <tr>\n",
       "      <th>4</th>\n",
       "      <td>2 weeks in Red Hook Brooklyn, what should we see?</td>\n",
       "      <td>We're pet sitting for a couple of weeks. No ca...</td>\n",
       "      <td>Shoestring</td>\n",
       "    </tr>\n",
       "    <tr>\n",
       "      <th>5</th>\n",
       "      <td>Experiencing Andalusia for the first time is a...</td>\n",
       "      <td>NaN</td>\n",
       "      <td>Shoestring</td>\n",
       "    </tr>\n",
       "    <tr>\n",
       "      <th>6</th>\n",
       "      <td>January Winter Wonderland European Destinations?</td>\n",
       "      <td>Looking for destinations in Europe including e...</td>\n",
       "      <td>Shoestring</td>\n",
       "    </tr>\n",
       "    <tr>\n",
       "      <th>7</th>\n",
       "      <td>Possible the most beautiful natural thermal sp...</td>\n",
       "      <td>NaN</td>\n",
       "      <td>Shoestring</td>\n",
       "    </tr>\n",
       "    <tr>\n",
       "      <th>8</th>\n",
       "      <td>Traveling with a baby?</td>\n",
       "      <td>Hi!\\nI’d like to take my husband somewhere for...</td>\n",
       "      <td>Shoestring</td>\n",
       "    </tr>\n",
       "    <tr>\n",
       "      <th>9</th>\n",
       "      <td>Need help finding a cheap flight</td>\n",
       "      <td>Hello friends. I recently booked a one way tic...</td>\n",
       "      <td>Shoestring</td>\n",
       "    </tr>\n",
       "    <tr>\n",
       "      <th>10</th>\n",
       "      <td>Megabus ticket sales for the fall</td>\n",
       "      <td>anyone have an idea when the fall (past early ...</td>\n",
       "      <td>Shoestring</td>\n",
       "    </tr>\n",
       "    <tr>\n",
       "      <th>11</th>\n",
       "      <td>Costa Rica/Central America</td>\n",
       "      <td>Hi All!\\n\\nI will be in Costa Rica in Septembe...</td>\n",
       "      <td>Shoestring</td>\n",
       "    </tr>\n",
       "    <tr>\n",
       "      <th>12</th>\n",
       "      <td>Airlines Cracking Down on Carry-On Bag Sizes?</td>\n",
       "      <td>Just got stopped while I was checking in at a ...</td>\n",
       "      <td>Shoestring</td>\n",
       "    </tr>\n",
       "    <tr>\n",
       "      <th>13</th>\n",
       "      <td>Amsterdam</td>\n",
       "      <td>Hiya,  \\n\\n\\nI don't normally do the more norm...</td>\n",
       "      <td>Shoestring</td>\n",
       "    </tr>\n",
       "    <tr>\n",
       "      <th>14</th>\n",
       "      <td>First Solo Trip to Japan</td>\n",
       "      <td>Hi. I’m making my first solo trip in October t...</td>\n",
       "      <td>Shoestring</td>\n",
       "    </tr>\n",
       "    <tr>\n",
       "      <th>15</th>\n",
       "      <td>Flights to Australia</td>\n",
       "      <td>Me and my girlfriend are planning to fly to AU...</td>\n",
       "      <td>Shoestring</td>\n",
       "    </tr>\n",
       "    <tr>\n",
       "      <th>16</th>\n",
       "      <td>RICHMOND, VA TO LAS VEGAS, NV: October 24-Nove...</td>\n",
       "      <td>This is the date range I’ve been given by a fr...</td>\n",
       "      <td>Shoestring</td>\n",
       "    </tr>\n",
       "    <tr>\n",
       "      <th>17</th>\n",
       "      <td>Vacation recommendation</td>\n",
       "      <td>Hello friends! \\n\\nI’m looking to book a 4 day...</td>\n",
       "      <td>Shoestring</td>\n",
       "    </tr>\n",
       "    <tr>\n",
       "      <th>18</th>\n",
       "      <td>Best cheap cities with a lot to do and see</td>\n",
       "      <td>My family is going to Maui in a few weeks and ...</td>\n",
       "      <td>Shoestring</td>\n",
       "    </tr>\n",
       "    <tr>\n",
       "      <th>19</th>\n",
       "      <td>Best time to book flight</td>\n",
       "      <td>Best time to book flight from PHL to Dublin fo...</td>\n",
       "      <td>Shoestring</td>\n",
       "    </tr>\n",
       "    <tr>\n",
       "      <th>20</th>\n",
       "      <td>I will help you find you cheap flights for fre...</td>\n",
       "      <td>I have a hobby of aviation and finding cheap a...</td>\n",
       "      <td>Shoestring</td>\n",
       "    </tr>\n",
       "    <tr>\n",
       "      <th>21</th>\n",
       "      <td>Is BusBud legitimate?</td>\n",
       "      <td>Looking to travel solo from Chicago to DC/NYC/...</td>\n",
       "      <td>Shoestring</td>\n",
       "    </tr>\n",
       "    <tr>\n",
       "      <th>22</th>\n",
       "      <td>SHOES MANUFACTURER</td>\n",
       "      <td>Hi all\\n\\nI am looking for a shoes manufacture...</td>\n",
       "      <td>Shoestring</td>\n",
       "    </tr>\n",
       "    <tr>\n",
       "      <th>23</th>\n",
       "      <td>What should we do for a one day excursion in T...</td>\n",
       "      <td>NaN</td>\n",
       "      <td>Shoestring</td>\n",
       "    </tr>\n",
       "    <tr>\n",
       "      <th>24</th>\n",
       "      <td>Greece and Italy for a belated honeymoon trip</td>\n",
       "      <td>Husband (24M) and I (29F) are looking to do a ...</td>\n",
       "      <td>Shoestring</td>\n",
       "    </tr>\n",
       "    <tr>\n",
       "      <th>25</th>\n",
       "      <td>Getting from Barcelona to Lisbon?</td>\n",
       "      <td>My wife works for American Airlines, but they ...</td>\n",
       "      <td>Shoestring</td>\n",
       "    </tr>\n",
       "    <tr>\n",
       "      <th>26</th>\n",
       "      <td>First time solo travel on the west coast.</td>\n",
       "      <td>Hi r/shoestring, first time poster here. I'm M...</td>\n",
       "      <td>Shoestring</td>\n",
       "    </tr>\n",
       "    <tr>\n",
       "      <th>27</th>\n",
       "      <td>Hotel cooking!</td>\n",
       "      <td>I am looking for healthy, real food options th...</td>\n",
       "      <td>Shoestring</td>\n",
       "    </tr>\n",
       "    <tr>\n",
       "      <th>28</th>\n",
       "      <td>Cheap Accommodations?</td>\n",
       "      <td>Hey all! Just wondering if I could have your b...</td>\n",
       "      <td>Shoestring</td>\n",
       "    </tr>\n",
       "    <tr>\n",
       "      <th>29</th>\n",
       "      <td>First time traveling to London alone! Help!</td>\n",
       "      <td>Hi! I’m (17F) traveling to London for the firs...</td>\n",
       "      <td>Shoestring</td>\n",
       "    </tr>\n",
       "    <tr>\n",
       "      <th>...</th>\n",
       "      <td>...</td>\n",
       "      <td>...</td>\n",
       "      <td>...</td>\n",
       "    </tr>\n",
       "    <tr>\n",
       "      <th>1968</th>\n",
       "      <td>Capurgana from Bogota</td>\n",
       "      <td>I am traveling this year to Colombia, and time...</td>\n",
       "      <td>travel</td>\n",
       "    </tr>\n",
       "    <tr>\n",
       "      <th>1969</th>\n",
       "      <td>Lao Chai Village near Sapa, Vietnam</td>\n",
       "      <td>NaN</td>\n",
       "      <td>travel</td>\n",
       "    </tr>\n",
       "    <tr>\n",
       "      <th>1970</th>\n",
       "      <td>Best Travel Credit Card For Frequent Use [x-po...</td>\n",
       "      <td>For the next 1-1.5 years I'd be taking an inte...</td>\n",
       "      <td>travel</td>\n",
       "    </tr>\n",
       "    <tr>\n",
       "      <th>1971</th>\n",
       "      <td>Looking for suggestions for Rhodes, Greece (or...</td>\n",
       "      <td>I have just booked a one week vacation in Gree...</td>\n",
       "      <td>travel</td>\n",
       "    </tr>\n",
       "    <tr>\n",
       "      <th>1972</th>\n",
       "      <td>Can I Enter Lebanon with an Egyptian visa that...</td>\n",
       "      <td>As the title states, I traveled through Israel...</td>\n",
       "      <td>travel</td>\n",
       "    </tr>\n",
       "    <tr>\n",
       "      <th>1973</th>\n",
       "      <td>Opinions on Basel, Lucerne and Zurich</td>\n",
       "      <td>We have booked a river cruise that ends in Bas...</td>\n",
       "      <td>travel</td>\n",
       "    </tr>\n",
       "    <tr>\n",
       "      <th>1974</th>\n",
       "      <td>Northern California - Trip Planning &amp;amp; Advi...</td>\n",
       "      <td>I will be in San Francisco for work in October...</td>\n",
       "      <td>travel</td>\n",
       "    </tr>\n",
       "    <tr>\n",
       "      <th>1975</th>\n",
       "      <td>The charmingly touristy Doi Suthep Temple, Chi...</td>\n",
       "      <td>NaN</td>\n",
       "      <td>travel</td>\n",
       "    </tr>\n",
       "    <tr>\n",
       "      <th>1976</th>\n",
       "      <td>Going to Estes Park, CO next week and want to ...</td>\n",
       "      <td>Hi all, my family (wife and two pre-teen girls...</td>\n",
       "      <td>travel</td>\n",
       "    </tr>\n",
       "    <tr>\n",
       "      <th>1977</th>\n",
       "      <td>Getting a Wellbutrin prescription in Australia</td>\n",
       "      <td>I’m going to be studying abroad in Australia f...</td>\n",
       "      <td>travel</td>\n",
       "    </tr>\n",
       "    <tr>\n",
       "      <th>1978</th>\n",
       "      <td>Is there anything interesting that you collect...</td>\n",
       "      <td>It could be a keychain, currency, a shirt with...</td>\n",
       "      <td>travel</td>\n",
       "    </tr>\n",
       "    <tr>\n",
       "      <th>1979</th>\n",
       "      <td>Age Requirement in European Hostels</td>\n",
       "      <td>My cousins (will be 19 and 17 when this would ...</td>\n",
       "      <td>travel</td>\n",
       "    </tr>\n",
       "    <tr>\n",
       "      <th>1980</th>\n",
       "      <td>Travelling between Granada and Ronda, suggesti...</td>\n",
       "      <td>The wife and I will be spending 2 nights in Gr...</td>\n",
       "      <td>travel</td>\n",
       "    </tr>\n",
       "    <tr>\n",
       "      <th>1981</th>\n",
       "      <td>Vaccines/immunizations traveling from US to Ni...</td>\n",
       "      <td>Has anyone traveled from the US to Nicaragua r...</td>\n",
       "      <td>travel</td>\n",
       "    </tr>\n",
       "    <tr>\n",
       "      <th>1982</th>\n",
       "      <td>Daytrips outside of Rome</td>\n",
       "      <td>First time travelling internationally and I pl...</td>\n",
       "      <td>travel</td>\n",
       "    </tr>\n",
       "    <tr>\n",
       "      <th>1983</th>\n",
       "      <td>Four weeks in Europe. Spain, Italy, and (?)</td>\n",
       "      <td>First time in Europe for my wife and I, flying...</td>\n",
       "      <td>travel</td>\n",
       "    </tr>\n",
       "    <tr>\n",
       "      <th>1984</th>\n",
       "      <td>Advice for Travel to Spain</td>\n",
       "      <td>Hello! I am planning to take my husband to Spa...</td>\n",
       "      <td>travel</td>\n",
       "    </tr>\n",
       "    <tr>\n",
       "      <th>1985</th>\n",
       "      <td>Beijing layover tours other than Great Wall to...</td>\n",
       "      <td>I would much rather go into the city than to t...</td>\n",
       "      <td>travel</td>\n",
       "    </tr>\n",
       "    <tr>\n",
       "      <th>1986</th>\n",
       "      <td>Traveling to Dublin from USA in September. Wha...</td>\n",
       "      <td>I will be traveling with some good friends to ...</td>\n",
       "      <td>travel</td>\n",
       "    </tr>\n",
       "    <tr>\n",
       "      <th>1987</th>\n",
       "      <td>Umbria for three days</td>\n",
       "      <td>My partner and I will be travelling to Italy i...</td>\n",
       "      <td>travel</td>\n",
       "    </tr>\n",
       "    <tr>\n",
       "      <th>1988</th>\n",
       "      <td>Any aviation enthusiasts on here that have don...</td>\n",
       "      <td>Anyone ever done this flight ? Starts in Honol...</td>\n",
       "      <td>travel</td>\n",
       "    </tr>\n",
       "    <tr>\n",
       "      <th>1989</th>\n",
       "      <td>What is the best way to increase the chances t...</td>\n",
       "      <td>I found $300 roundtrip tickets (Iberia operate...</td>\n",
       "      <td>travel</td>\n",
       "    </tr>\n",
       "    <tr>\n",
       "      <th>1990</th>\n",
       "      <td>Help finding walking sandals</td>\n",
       "      <td>I ordered 2 pairs of Chaco sandals because I’v...</td>\n",
       "      <td>travel</td>\n",
       "    </tr>\n",
       "    <tr>\n",
       "      <th>1991</th>\n",
       "      <td>Barcelona, Spain or Split, Croatia</td>\n",
       "      <td>I’m looking to take a week-long solo trip and ...</td>\n",
       "      <td>travel</td>\n",
       "    </tr>\n",
       "    <tr>\n",
       "      <th>1992</th>\n",
       "      <td>Holland Tourist Day Ticket for children</td>\n",
       "      <td>Hi, I am checking out the [Tourist Day Ticket]...</td>\n",
       "      <td>travel</td>\n",
       "    </tr>\n",
       "    <tr>\n",
       "      <th>1993</th>\n",
       "      <td>1 Weekend trip to Seattle or Portland?</td>\n",
       "      <td>Hey, I’m a 22-year-old guy planning to fly thr...</td>\n",
       "      <td>travel</td>\n",
       "    </tr>\n",
       "    <tr>\n",
       "      <th>1994</th>\n",
       "      <td>Travel recommendations during first week of Au...</td>\n",
       "      <td>I'm looking to travel for 5-6 day in first wee...</td>\n",
       "      <td>travel</td>\n",
       "    </tr>\n",
       "    <tr>\n",
       "      <th>1995</th>\n",
       "      <td>Tarzan in Yauco, Puerto Rico.</td>\n",
       "      <td>NaN</td>\n",
       "      <td>travel</td>\n",
       "    </tr>\n",
       "    <tr>\n",
       "      <th>1996</th>\n",
       "      <td>Wife is Russian, I’m British. We live in UK. I...</td>\n",
       "      <td>Would my wife need a visa for every country we...</td>\n",
       "      <td>travel</td>\n",
       "    </tr>\n",
       "    <tr>\n",
       "      <th>1997</th>\n",
       "      <td>The famous Matterhorn taken from the nearby al...</td>\n",
       "      <td>NaN</td>\n",
       "      <td>travel</td>\n",
       "    </tr>\n",
       "  </tbody>\n",
       "</table>\n",
       "<p>1998 rows × 3 columns</p>\n",
       "</div>"
      ],
      "text/plain": [
       "                                                  title  \\\n",
       "0                                   Traveling to NYC...   \n",
       "1                      Looking for a mini getaway trip.   \n",
       "2                    Emergency travel - Standby ticket?   \n",
       "3     Should I ditch my greyhound ticket for a plane...   \n",
       "4     2 weeks in Red Hook Brooklyn, what should we see?   \n",
       "5     Experiencing Andalusia for the first time is a...   \n",
       "6      January Winter Wonderland European Destinations?   \n",
       "7     Possible the most beautiful natural thermal sp...   \n",
       "8                                Traveling with a baby?   \n",
       "9                      Need help finding a cheap flight   \n",
       "10                    Megabus ticket sales for the fall   \n",
       "11                           Costa Rica/Central America   \n",
       "12        Airlines Cracking Down on Carry-On Bag Sizes?   \n",
       "13                                            Amsterdam   \n",
       "14                             First Solo Trip to Japan   \n",
       "15                                 Flights to Australia   \n",
       "16    RICHMOND, VA TO LAS VEGAS, NV: October 24-Nove...   \n",
       "17                              Vacation recommendation   \n",
       "18           Best cheap cities with a lot to do and see   \n",
       "19                             Best time to book flight   \n",
       "20    I will help you find you cheap flights for fre...   \n",
       "21                                Is BusBud legitimate?   \n",
       "22                                   SHOES MANUFACTURER   \n",
       "23    What should we do for a one day excursion in T...   \n",
       "24        Greece and Italy for a belated honeymoon trip   \n",
       "25                    Getting from Barcelona to Lisbon?   \n",
       "26            First time solo travel on the west coast.   \n",
       "27                                       Hotel cooking!   \n",
       "28                                Cheap Accommodations?   \n",
       "29          First time traveling to London alone! Help!   \n",
       "...                                                 ...   \n",
       "1968                              Capurgana from Bogota   \n",
       "1969                Lao Chai Village near Sapa, Vietnam   \n",
       "1970  Best Travel Credit Card For Frequent Use [x-po...   \n",
       "1971  Looking for suggestions for Rhodes, Greece (or...   \n",
       "1972  Can I Enter Lebanon with an Egyptian visa that...   \n",
       "1973              Opinions on Basel, Lucerne and Zurich   \n",
       "1974  Northern California - Trip Planning &amp; Advi...   \n",
       "1975  The charmingly touristy Doi Suthep Temple, Chi...   \n",
       "1976  Going to Estes Park, CO next week and want to ...   \n",
       "1977     Getting a Wellbutrin prescription in Australia   \n",
       "1978  Is there anything interesting that you collect...   \n",
       "1979                Age Requirement in European Hostels   \n",
       "1980  Travelling between Granada and Ronda, suggesti...   \n",
       "1981  Vaccines/immunizations traveling from US to Ni...   \n",
       "1982                           Daytrips outside of Rome   \n",
       "1983        Four weeks in Europe. Spain, Italy, and (?)   \n",
       "1984                         Advice for Travel to Spain   \n",
       "1985  Beijing layover tours other than Great Wall to...   \n",
       "1986  Traveling to Dublin from USA in September. Wha...   \n",
       "1987                              Umbria for three days   \n",
       "1988  Any aviation enthusiasts on here that have don...   \n",
       "1989  What is the best way to increase the chances t...   \n",
       "1990                       Help finding walking sandals   \n",
       "1991                 Barcelona, Spain or Split, Croatia   \n",
       "1992            Holland Tourist Day Ticket for children   \n",
       "1993             1 Weekend trip to Seattle or Portland?   \n",
       "1994  Travel recommendations during first week of Au...   \n",
       "1995                      Tarzan in Yauco, Puerto Rico.   \n",
       "1996  Wife is Russian, I’m British. We live in UK. I...   \n",
       "1997  The famous Matterhorn taken from the nearby al...   \n",
       "\n",
       "                                                  posts   subreddit  \n",
       "0     I am traveling to NYC  in a week. What areas o...  Shoestring  \n",
       "1     You’re traveling with your SO this Fall and ha...  Shoestring  \n",
       "2     Hi everyone,\\n\\nMy little sister was involved ...  Shoestring  \n",
       "3     So I will be going on a trip soon, it's my fir...  Shoestring  \n",
       "4     We're pet sitting for a couple of weeks. No ca...  Shoestring  \n",
       "5                                                   NaN  Shoestring  \n",
       "6     Looking for destinations in Europe including e...  Shoestring  \n",
       "7                                                   NaN  Shoestring  \n",
       "8     Hi!\\nI’d like to take my husband somewhere for...  Shoestring  \n",
       "9     Hello friends. I recently booked a one way tic...  Shoestring  \n",
       "10    anyone have an idea when the fall (past early ...  Shoestring  \n",
       "11    Hi All!\\n\\nI will be in Costa Rica in Septembe...  Shoestring  \n",
       "12    Just got stopped while I was checking in at a ...  Shoestring  \n",
       "13    Hiya,  \\n\\n\\nI don't normally do the more norm...  Shoestring  \n",
       "14    Hi. I’m making my first solo trip in October t...  Shoestring  \n",
       "15    Me and my girlfriend are planning to fly to AU...  Shoestring  \n",
       "16    This is the date range I’ve been given by a fr...  Shoestring  \n",
       "17    Hello friends! \\n\\nI’m looking to book a 4 day...  Shoestring  \n",
       "18    My family is going to Maui in a few weeks and ...  Shoestring  \n",
       "19    Best time to book flight from PHL to Dublin fo...  Shoestring  \n",
       "20    I have a hobby of aviation and finding cheap a...  Shoestring  \n",
       "21    Looking to travel solo from Chicago to DC/NYC/...  Shoestring  \n",
       "22    Hi all\\n\\nI am looking for a shoes manufacture...  Shoestring  \n",
       "23                                                  NaN  Shoestring  \n",
       "24    Husband (24M) and I (29F) are looking to do a ...  Shoestring  \n",
       "25    My wife works for American Airlines, but they ...  Shoestring  \n",
       "26    Hi r/shoestring, first time poster here. I'm M...  Shoestring  \n",
       "27    I am looking for healthy, real food options th...  Shoestring  \n",
       "28    Hey all! Just wondering if I could have your b...  Shoestring  \n",
       "29    Hi! I’m (17F) traveling to London for the firs...  Shoestring  \n",
       "...                                                 ...         ...  \n",
       "1968  I am traveling this year to Colombia, and time...      travel  \n",
       "1969                                                NaN      travel  \n",
       "1970  For the next 1-1.5 years I'd be taking an inte...      travel  \n",
       "1971  I have just booked a one week vacation in Gree...      travel  \n",
       "1972  As the title states, I traveled through Israel...      travel  \n",
       "1973  We have booked a river cruise that ends in Bas...      travel  \n",
       "1974  I will be in San Francisco for work in October...      travel  \n",
       "1975                                                NaN      travel  \n",
       "1976  Hi all, my family (wife and two pre-teen girls...      travel  \n",
       "1977  I’m going to be studying abroad in Australia f...      travel  \n",
       "1978  It could be a keychain, currency, a shirt with...      travel  \n",
       "1979  My cousins (will be 19 and 17 when this would ...      travel  \n",
       "1980  The wife and I will be spending 2 nights in Gr...      travel  \n",
       "1981  Has anyone traveled from the US to Nicaragua r...      travel  \n",
       "1982  First time travelling internationally and I pl...      travel  \n",
       "1983  First time in Europe for my wife and I, flying...      travel  \n",
       "1984  Hello! I am planning to take my husband to Spa...      travel  \n",
       "1985  I would much rather go into the city than to t...      travel  \n",
       "1986  I will be traveling with some good friends to ...      travel  \n",
       "1987  My partner and I will be travelling to Italy i...      travel  \n",
       "1988  Anyone ever done this flight ? Starts in Honol...      travel  \n",
       "1989  I found $300 roundtrip tickets (Iberia operate...      travel  \n",
       "1990  I ordered 2 pairs of Chaco sandals because I’v...      travel  \n",
       "1991  I’m looking to take a week-long solo trip and ...      travel  \n",
       "1992  Hi, I am checking out the [Tourist Day Ticket]...      travel  \n",
       "1993  Hey, I’m a 22-year-old guy planning to fly thr...      travel  \n",
       "1994  I'm looking to travel for 5-6 day in first wee...      travel  \n",
       "1995                                                NaN      travel  \n",
       "1996  Would my wife need a visa for every country we...      travel  \n",
       "1997                                                NaN      travel  \n",
       "\n",
       "[1998 rows x 3 columns]"
      ]
     },
     "execution_count": 2,
     "metadata": {},
     "output_type": "execute_result"
    }
   ],
   "source": [
    "# Combining all .csv files into one big dataframe for cleaning and modeling\n",
    "# ref: http://goodbody.io/combining-csv-files-with-glob/\n",
    "\n",
    "travel_shoestring_df = pd.DataFrame()\n",
    "columns = ['title', 'posts', 'subreddit']\n",
    "\n",
    "for f in glob.glob(\"./Posts csv files/*.csv\"):\n",
    "    df = pd.read_csv(f, usecols = columns, dtype = object)\n",
    "    travel_shoestring_df = travel_shoestring_df.append(df, ignore_index = True)\n",
    "\n",
    "travel_shoestring_df"
   ]
  },
  {
   "cell_type": "code",
   "execution_count": 3,
   "metadata": {},
   "outputs": [],
   "source": [
    "travel_shoestring_df.to_csv(\"./travel_shoestring_df.csv\")"
   ]
  },
  {
   "cell_type": "code",
   "execution_count": 4,
   "metadata": {},
   "outputs": [],
   "source": [
    "travel_shoestring_df['title_posts'] = travel_shoestring_df['title'] + travel_shoestring_df['posts']"
   ]
  },
  {
   "cell_type": "code",
   "execution_count": 5,
   "metadata": {},
   "outputs": [
    {
     "data": {
      "text/plain": [
       "(1998, 4)"
      ]
     },
     "execution_count": 5,
     "metadata": {},
     "output_type": "execute_result"
    }
   ],
   "source": [
    "travel_shoestring_df.shape"
   ]
  },
  {
   "cell_type": "code",
   "execution_count": 6,
   "metadata": {},
   "outputs": [
    {
     "data": {
      "text/plain": [
       "title            0\n",
       "posts          290\n",
       "subreddit        0\n",
       "title_posts    290\n",
       "dtype: int64"
      ]
     },
     "execution_count": 6,
     "metadata": {},
     "output_type": "execute_result"
    }
   ],
   "source": [
    "travel_shoestring_df.isnull().sum()"
   ]
  },
  {
   "cell_type": "code",
   "execution_count": 7,
   "metadata": {},
   "outputs": [],
   "source": [
    "travel_shoestring_df.replace(np.nan, ' ', inplace = True)"
   ]
  },
  {
   "cell_type": "code",
   "execution_count": 8,
   "metadata": {},
   "outputs": [
    {
     "data": {
      "text/plain": [
       "0"
      ]
     },
     "execution_count": 8,
     "metadata": {},
     "output_type": "execute_result"
    }
   ],
   "source": [
    "travel_shoestring_df.isnull().sum().sum()"
   ]
  },
  {
   "cell_type": "code",
   "execution_count": 9,
   "metadata": {},
   "outputs": [],
   "source": [
    "travel_shoestring_df['subreddit'] = travel_shoestring_df['subreddit'].map(lambda p : 1 if p == \"travel\" else 0)"
   ]
  },
  {
   "cell_type": "markdown",
   "metadata": {},
   "source": [
    "### Baseline: \n",
    "\n",
    "About 50.3% for Shoestring (set as the negative class)"
   ]
  },
  {
   "cell_type": "code",
   "execution_count": 10,
   "metadata": {},
   "outputs": [
    {
     "data": {
      "text/plain": [
       "0    0.503504\n",
       "1    0.496496\n",
       "Name: subreddit, dtype: float64"
      ]
     },
     "execution_count": 10,
     "metadata": {},
     "output_type": "execute_result"
    }
   ],
   "source": [
    "travel_shoestring_df['subreddit'].value_counts(normalize = True)"
   ]
  },
  {
   "cell_type": "code",
   "execution_count": 11,
   "metadata": {},
   "outputs": [
    {
     "data": {
      "text/html": [
       "<div>\n",
       "<style scoped>\n",
       "    .dataframe tbody tr th:only-of-type {\n",
       "        vertical-align: middle;\n",
       "    }\n",
       "\n",
       "    .dataframe tbody tr th {\n",
       "        vertical-align: top;\n",
       "    }\n",
       "\n",
       "    .dataframe thead th {\n",
       "        text-align: right;\n",
       "    }\n",
       "</style>\n",
       "<table border=\"1\" class=\"dataframe\">\n",
       "  <thead>\n",
       "    <tr style=\"text-align: right;\">\n",
       "      <th></th>\n",
       "      <th>title</th>\n",
       "      <th>posts</th>\n",
       "      <th>subreddit</th>\n",
       "      <th>title_posts</th>\n",
       "    </tr>\n",
       "  </thead>\n",
       "  <tbody>\n",
       "    <tr>\n",
       "      <th>0</th>\n",
       "      <td>Traveling to NYC...</td>\n",
       "      <td>I am traveling to NYC  in a week. What areas o...</td>\n",
       "      <td>0</td>\n",
       "      <td>Traveling to NYC...I am traveling to NYC  in a...</td>\n",
       "    </tr>\n",
       "    <tr>\n",
       "      <th>1</th>\n",
       "      <td>Looking for a mini getaway trip.</td>\n",
       "      <td>You’re traveling with your SO this Fall and ha...</td>\n",
       "      <td>0</td>\n",
       "      <td>Looking for a mini getaway trip.You’re traveli...</td>\n",
       "    </tr>\n",
       "    <tr>\n",
       "      <th>2</th>\n",
       "      <td>Emergency travel - Standby ticket?</td>\n",
       "      <td>Hi everyone,\\n\\nMy little sister was involved ...</td>\n",
       "      <td>0</td>\n",
       "      <td>Emergency travel - Standby ticket?Hi everyone,...</td>\n",
       "    </tr>\n",
       "    <tr>\n",
       "      <th>3</th>\n",
       "      <td>Should I ditch my greyhound ticket for a plane...</td>\n",
       "      <td>So I will be going on a trip soon, it's my fir...</td>\n",
       "      <td>0</td>\n",
       "      <td>Should I ditch my greyhound ticket for a plane...</td>\n",
       "    </tr>\n",
       "    <tr>\n",
       "      <th>4</th>\n",
       "      <td>2 weeks in Red Hook Brooklyn, what should we see?</td>\n",
       "      <td>We're pet sitting for a couple of weeks. No ca...</td>\n",
       "      <td>0</td>\n",
       "      <td>2 weeks in Red Hook Brooklyn, what should we s...</td>\n",
       "    </tr>\n",
       "  </tbody>\n",
       "</table>\n",
       "</div>"
      ],
      "text/plain": [
       "                                               title  \\\n",
       "0                                Traveling to NYC...   \n",
       "1                   Looking for a mini getaway trip.   \n",
       "2                 Emergency travel - Standby ticket?   \n",
       "3  Should I ditch my greyhound ticket for a plane...   \n",
       "4  2 weeks in Red Hook Brooklyn, what should we see?   \n",
       "\n",
       "                                               posts  subreddit  \\\n",
       "0  I am traveling to NYC  in a week. What areas o...          0   \n",
       "1  You’re traveling with your SO this Fall and ha...          0   \n",
       "2  Hi everyone,\\n\\nMy little sister was involved ...          0   \n",
       "3  So I will be going on a trip soon, it's my fir...          0   \n",
       "4  We're pet sitting for a couple of weeks. No ca...          0   \n",
       "\n",
       "                                         title_posts  \n",
       "0  Traveling to NYC...I am traveling to NYC  in a...  \n",
       "1  Looking for a mini getaway trip.You’re traveli...  \n",
       "2  Emergency travel - Standby ticket?Hi everyone,...  \n",
       "3  Should I ditch my greyhound ticket for a plane...  \n",
       "4  2 weeks in Red Hook Brooklyn, what should we s...  "
      ]
     },
     "execution_count": 11,
     "metadata": {},
     "output_type": "execute_result"
    }
   ],
   "source": [
    "travel_shoestring_df.head()"
   ]
  },
  {
   "cell_type": "code",
   "execution_count": 12,
   "metadata": {},
   "outputs": [
    {
     "data": {
      "text/plain": [
       "(1998, 4)"
      ]
     },
     "execution_count": 12,
     "metadata": {},
     "output_type": "execute_result"
    }
   ],
   "source": [
    "travel_shoestring_df.shape"
   ]
  },
  {
   "cell_type": "code",
   "execution_count": 13,
   "metadata": {},
   "outputs": [],
   "source": [
    "travel_shoestring_df.drop_duplicates(inplace = True)"
   ]
  },
  {
   "cell_type": "code",
   "execution_count": 14,
   "metadata": {},
   "outputs": [
    {
     "data": {
      "text/plain": [
       "(1797, 4)"
      ]
     },
     "execution_count": 14,
     "metadata": {},
     "output_type": "execute_result"
    }
   ],
   "source": [
    "travel_shoestring_df.shape"
   ]
  },
  {
   "cell_type": "code",
   "execution_count": 15,
   "metadata": {
    "scrolled": true
   },
   "outputs": [
    {
     "data": {
      "text/plain": [
       "0       Traveling to NYC...I am traveling to NYC  in a...\n",
       "1       Looking for a mini getaway trip.You’re traveli...\n",
       "2       Emergency travel - Standby ticket?Hi everyone,...\n",
       "3       Should I ditch my greyhound ticket for a plane...\n",
       "4       2 weeks in Red Hook Brooklyn, what should we s...\n",
       "5                                                        \n",
       "6       January Winter Wonderland European Destination...\n",
       "7                                                        \n",
       "8       Traveling with a baby?Hi!\\nI’d like to take my...\n",
       "9       Need help finding a cheap flightHello friends....\n",
       "10      Megabus ticket sales for the fallanyone have a...\n",
       "11      Costa Rica/Central AmericaHi All!\\n\\nI will be...\n",
       "12      Airlines Cracking Down on Carry-On Bag Sizes?J...\n",
       "13      AmsterdamHiya,  \\n\\n\\nI don't normally do the ...\n",
       "14      First Solo Trip to JapanHi. I’m making my firs...\n",
       "15      Flights to AustraliaMe and my girlfriend are p...\n",
       "16      RICHMOND, VA TO LAS VEGAS, NV: October 24-Nove...\n",
       "17      Vacation recommendationHello friends! \\n\\nI’m ...\n",
       "18      Best cheap cities with a lot to do and seeMy f...\n",
       "19      Best time to book flightBest time to book flig...\n",
       "20      I will help you find you cheap flights for fre...\n",
       "21      Is BusBud legitimate?Looking to travel solo fr...\n",
       "22      SHOES MANUFACTURERHi all\\n\\nI am looking for a...\n",
       "23                                                       \n",
       "24      Greece and Italy for a belated honeymoon tripH...\n",
       "25      Getting from Barcelona to Lisbon?My wife works...\n",
       "26      First time solo travel on the west coast.Hi r/...\n",
       "27      Hotel cooking!I am looking for healthy, real f...\n",
       "28      Cheap Accommodations?Hey all! Just wondering i...\n",
       "29      First time traveling to London alone! Help!Hi!...\n",
       "                              ...                        \n",
       "1968    Capurgana from BogotaI am traveling this year ...\n",
       "1969                                                     \n",
       "1970    Best Travel Credit Card For Frequent Use [x-po...\n",
       "1971    Looking for suggestions for Rhodes, Greece (or...\n",
       "1972    Can I Enter Lebanon with an Egyptian visa that...\n",
       "1973    Opinions on Basel, Lucerne and ZurichWe have b...\n",
       "1974    Northern California - Trip Planning &amp; Advi...\n",
       "1975                                                     \n",
       "1976    Going to Estes Park, CO next week and want to ...\n",
       "1977    Getting a Wellbutrin prescription in Australia...\n",
       "1978    Is there anything interesting that you collect...\n",
       "1979    Age Requirement in European HostelsMy cousins ...\n",
       "1980    Travelling between Granada and Ronda, suggesti...\n",
       "1981    Vaccines/immunizations traveling from US to Ni...\n",
       "1982    Daytrips outside of RomeFirst time travelling ...\n",
       "1983    Four weeks in Europe. Spain, Italy, and (?)Fir...\n",
       "1984    Advice for Travel to SpainHello! I am planning...\n",
       "1985    Beijing layover tours other than Great Wall to...\n",
       "1986    Traveling to Dublin from USA in September. Wha...\n",
       "1987    Umbria for three daysMy partner and I will be ...\n",
       "1988    Any aviation enthusiasts on here that have don...\n",
       "1989    What is the best way to increase the chances t...\n",
       "1990    Help finding walking sandalsI ordered 2 pairs ...\n",
       "1991    Barcelona, Spain or Split, CroatiaI’m looking ...\n",
       "1992    Holland Tourist Day Ticket for childrenHi, I a...\n",
       "1993    1 Weekend trip to Seattle or Portland?Hey, I’m...\n",
       "1994    Travel recommendations during first week of Au...\n",
       "1995                                                     \n",
       "1996    Wife is Russian, I’m British. We live in UK. I...\n",
       "1997                                                     \n",
       "Name: title_posts, Length: 1797, dtype: object"
      ]
     },
     "execution_count": 15,
     "metadata": {},
     "output_type": "execute_result"
    }
   ],
   "source": [
    "travel_shoestring_df['title_posts']"
   ]
  },
  {
   "cell_type": "code",
   "execution_count": 117,
   "metadata": {},
   "outputs": [],
   "source": [
    "# ref adi's project demo in DC Flex for cleaning data using lambda & removing subreddit names\n",
    "# got 1st three regex codes from lectures and https://stackoverflow.com/questions/11331982/how-to-remove-any-url-within-a-string-in-python\n",
    "\n",
    "import regex as re\n",
    "\n",
    "travel_shoestring_df['title_posts'] = travel_shoestring_df.title_posts.map(lambda x: re.sub(\" \\d+\", \" \", x))\n",
    "travel_shoestring_df['title_posts'] = travel_shoestring_df.title_posts.map(lambda x: re.sub(r'^https?:\\/\\/.*[\\r\\n]*', ' ', x))\n",
    "travel_shoestring_df['title_posts'] = travel_shoestring_df.title_posts.map(lambda x: re.sub(\"[^a-zA-Z]\", \" \", x))\n",
    "travel_shoestring_df['title_posts'] = travel_shoestring_df.title_posts.map(lambda x: re.sub('(travel|shoestring|subreddit|reddit)[s]?', ' ', x,  flags=re.I))\n",
    "\n"
   ]
  },
  {
   "cell_type": "code",
   "execution_count": 17,
   "metadata": {
    "scrolled": false
   },
   "outputs": [
    {
     "data": {
      "text/plain": [
       "'r   Region of the Week   Wallonia Hey  lers    In this new series of weekly threads we want to focus on regions that have a lot to offer to  lers  the towns  nature  and other interesting places whether they are lesser or more known  If more known provide more in depth suggestions like tours  things to do  places to eat  etc    Please contribute all and any questions   thoughts   suggestions   ideas   stories   highlights about this   destination  whether it be places you want to see or experiences you have had   This post will be  archived on our wiki destinations page  http   www   com r   wiki topic of the week  and linked in the sidebar for future reference  so please direct any of the more  repetitive questions  http   www   com r   search q  Indonesia  self  Ayes amp restrict sr on amp sort relevance amp t all  there  Please cick  here   https   docs google com spreadsheets d  RX YnlJHWfAFBv  oZZha d S BxXLGHUvnDqbOju k edit usp sharing  for list and dates of future destinations     Only guideline    If you link to an external site  make sure it s relevant to helping someone   to this city  Please include adequate text with the link explaining what it is about and describing the content from a helpful   perspective    gt    Example    We really enjoyed the Monterey Bay Aquarium in California  It was     each  but there s enough to keep you entertained for whole day  Bear in mind that parking on site is quite pricey  but if you go up the hill about m there are three     all day car parks   Monterey Aquarium  http   www montereybayaquarium org   gt    gt    Unhelpful    Read my  blog here  http   www   com r   wiki faq wiki i   ve written a blog about my amazing trip  i want everyone to read it                  gt    gt    Helpful    My favourite part of driving down the PCH was the wayside parks  I wrote a blog post about  some of the best places to stop  http   www   com r   wiki faq wiki i   ve written a blog about my amazing trip  i want everyone to read it               including Battle Rock  Newport and the Tillamook Valley Cheese Factory  try the fudge and ice cream     gt    gt    Unhelpful    Eat all the curry   picture of a curry    gt    gt    Helpful    The best food we tried in Myanmar was at the Karawek Cafe in Mandalay  a street side restaurant outside the City Hotel  The surprisingly young kids that run the place stew the pork curry curry pic  for  hours before serving  menu pic   They ll also do your laundry in  hours  and much cheaper than the hotel   gt    gt    Undescriptive   I went to Mandalay  Here s my photos video   As the purpose of these is to create a reference guide to answer some of the most repetitive questions  please do keep the content on topic  If comments are off topic any particularly long and irrelevant comment threads may need to be removed to keep the guide tidy   start a new post instead  Please report content that is     Completely off topic    Unhelpful  wrong or possibly harmful advice    Against the rules in the sidebar   blogspam  http   www   com r   wiki faq wiki what is the no blogspam rule  F  memes referrals sales links etc '"
      ]
     },
     "execution_count": 17,
     "metadata": {},
     "output_type": "execute_result"
    }
   ],
   "source": [
    "# This had a link in the text, so double checking to make sure it was removed\n",
    "\n",
    "travel_shoestring_df['title_posts'].iloc[806]"
   ]
  },
  {
   "cell_type": "code",
   "execution_count": 192,
   "metadata": {},
   "outputs": [],
   "source": [
    "# used this to check if the removed terms were still in the text\n",
    "\n",
    "for x in travel_shoestring_df['title_posts']:\n",
    "    if \"shoestring\" in x:\n",
    "        print(x)\n",
    "        \n",
    "for i in travel_shoestring_df['title_posts']:\n",
    "    if \"travel\" in i:\n",
    "        print(i)"
   ]
  },
  {
   "cell_type": "code",
   "execution_count": 193,
   "metadata": {},
   "outputs": [],
   "source": [
    "X = travel_shoestring_df['title_posts']\n",
    "y = travel_shoestring_df['subreddit']"
   ]
  },
  {
   "cell_type": "code",
   "execution_count": 194,
   "metadata": {},
   "outputs": [],
   "source": [
    "X_train, X_test, y_train, y_test = train_test_split(X, y, random_state = 42, stratify = y)"
   ]
  },
  {
   "cell_type": "code",
   "execution_count": 197,
   "metadata": {},
   "outputs": [],
   "source": [
    "# Want to ignore words that appear in more than 95% of the documents and less than 5 documents\n",
    "# Using max and min document frequency parameters\n",
    "\n",
    "tfidfvect = TfidfVectorizer(analyzer = \"word\", stop_words='english', max_features=300)"
   ]
  },
  {
   "cell_type": "code",
   "execution_count": 198,
   "metadata": {},
   "outputs": [],
   "source": [
    "X_train_tfidfvect_df = pd.DataFrame(tfidfvect.fit_transform(X_train).toarray(),\n",
    "                   columns=tfidfvect.get_feature_names())\n",
    "\n",
    "\n",
    "X_test_tfidfvect_df = pd.DataFrame(tfidfvect.transform(X_test).toarray(),\n",
    "                   columns=tfidfvect.get_feature_names())"
   ]
  },
  {
   "cell_type": "code",
   "execution_count": 199,
   "metadata": {},
   "outputs": [
    {
     "data": {
      "text/plain": [
       "list"
      ]
     },
     "execution_count": 199,
     "metadata": {},
     "output_type": "execute_result"
    }
   ],
   "source": [
    "type(tfidfvect.get_feature_names())"
   ]
  },
  {
   "cell_type": "code",
   "execution_count": 200,
   "metadata": {
    "scrolled": true
   },
   "outputs": [
    {
     "data": {
      "text/plain": [
       "(450, 300)"
      ]
     },
     "execution_count": 200,
     "metadata": {},
     "output_type": "execute_result"
    }
   ],
   "source": [
    "X_test_tfidfvect_df.shape"
   ]
  },
  {
   "cell_type": "code",
   "execution_count": 84,
   "metadata": {},
   "outputs": [
    {
     "data": {
      "text/plain": [
       "['able',\n",
       " 'accommodation',\n",
       " 'activities',\n",
       " 'actually',\n",
       " 'advance',\n",
       " 'advice',\n",
       " 'air',\n",
       " 'airbnb',\n",
       " 'airline',\n",
       " 'airlines',\n",
       " 'airport',\n",
       " 'amazing',\n",
       " 'america',\n",
       " 'american',\n",
       " 'amp',\n",
       " 'amsterdam',\n",
       " 'appreciated',\n",
       " 'area',\n",
       " 'arrive',\n",
       " 'asia',\n",
       " 'ask',\n",
       " 'aug',\n",
       " 'august',\n",
       " 'avoid',\n",
       " 'bag',\n",
       " 'barcelona',\n",
       " 'beach',\n",
       " 'best',\n",
       " 'better',\n",
       " 'big',\n",
       " 'bit',\n",
       " 'book',\n",
       " 'booked',\n",
       " 'booking',\n",
       " 'bring',\n",
       " 'budget',\n",
       " 'bus',\n",
       " 'buy',\n",
       " 'canada',\n",
       " 'car',\n",
       " 'card',\n",
       " 'carry',\n",
       " 'central',\n",
       " 'cheap',\n",
       " 'cheaper',\n",
       " 'cheapest',\n",
       " 'check',\n",
       " 'checked',\n",
       " 'china',\n",
       " 'cities',\n",
       " 'city',\n",
       " 'close',\n",
       " 'coast',\n",
       " 'com',\n",
       " 'considering',\n",
       " 'cool',\n",
       " 'cost',\n",
       " 'countries',\n",
       " 'country',\n",
       " 'couple',\n",
       " 'currently',\n",
       " 'day',\n",
       " 'days',\n",
       " 'dc',\n",
       " 'deal',\n",
       " 'decided',\n",
       " 'definitely',\n",
       " 'destination',\n",
       " 'destinations',\n",
       " 'did',\n",
       " 'didn',\n",
       " 'different',\n",
       " 'does',\n",
       " 'doesn',\n",
       " 'doing',\n",
       " 'don',\n",
       " 'drive',\n",
       " 'driving',\n",
       " 'early',\n",
       " 'eat',\n",
       " 'edit',\n",
       " 'end',\n",
       " 'enjoy',\n",
       " 'europe',\n",
       " 'expensive',\n",
       " 'experience',\n",
       " 'experiences',\n",
       " 'explore',\n",
       " 'family',\n",
       " 'far',\n",
       " 'feel',\n",
       " 'flight',\n",
       " 'flights',\n",
       " 'fly',\n",
       " 'flying',\n",
       " 'food',\n",
       " 'france',\n",
       " 'free',\n",
       " 'friend',\n",
       " 'friends',\n",
       " 'fun',\n",
       " 'getting',\n",
       " 'girlfriend',\n",
       " 'going',\n",
       " 'good',\n",
       " 'got',\n",
       " 'great',\n",
       " 'gt',\n",
       " 'guys',\n",
       " 'haven',\n",
       " 'having',\n",
       " 'heading',\n",
       " 'heard',\n",
       " 'help',\n",
       " 'hey',\n",
       " 'hi',\n",
       " 'hiking',\n",
       " 'home',\n",
       " 'hoping',\n",
       " 'hostel',\n",
       " 'hostels',\n",
       " 'hotel',\n",
       " 'hotels',\n",
       " 'hour',\n",
       " 'hours',\n",
       " 'https',\n",
       " 'idea',\n",
       " 'ideas',\n",
       " 'ing',\n",
       " 'interested',\n",
       " 'international',\n",
       " 'island',\n",
       " 'isn',\n",
       " 'italy',\n",
       " 'itinerary',\n",
       " 'japan',\n",
       " 'july',\n",
       " 'june',\n",
       " 'just',\n",
       " 'kind',\n",
       " 'know',\n",
       " 'la',\n",
       " 'late',\n",
       " 'leave',\n",
       " 'leaving',\n",
       " 'let',\n",
       " 'life',\n",
       " 'like',\n",
       " 'ling',\n",
       " 'little',\n",
       " 'live',\n",
       " 'living',\n",
       " 'll',\n",
       " 'local',\n",
       " 'locations',\n",
       " 'london',\n",
       " 'long',\n",
       " 'look',\n",
       " 'looking',\n",
       " 'lot',\n",
       " 'love',\n",
       " 'luggage',\n",
       " 'madrid',\n",
       " 'make',\n",
       " 'maybe',\n",
       " 'mexico',\n",
       " 'mind',\n",
       " 'money',\n",
       " 'month',\n",
       " 'months',\n",
       " 'morning',\n",
       " 'museums',\n",
       " 'national',\n",
       " 'nature',\n",
       " 'near',\n",
       " 'need',\n",
       " 'new',\n",
       " 'nice',\n",
       " 'night',\n",
       " 'nights',\n",
       " 'north',\n",
       " 'nyc',\n",
       " 'october',\n",
       " 'old',\n",
       " 'online',\n",
       " 'open',\n",
       " 'option',\n",
       " 'options',\n",
       " 'paris',\n",
       " 'park',\n",
       " 'pass',\n",
       " 'passport',\n",
       " 'pay',\n",
       " 'people',\n",
       " 'place',\n",
       " 'places',\n",
       " 'plan',\n",
       " 'plane',\n",
       " 'planning',\n",
       " 'pm',\n",
       " 'point',\n",
       " 'possible',\n",
       " 'post',\n",
       " 'pretty',\n",
       " 'price',\n",
       " 'prices',\n",
       " 'probably',\n",
       " 'public',\n",
       " 'question',\n",
       " 'questions',\n",
       " 'read',\n",
       " 'really',\n",
       " 'recommend',\n",
       " 'recommendations',\n",
       " 'rental',\n",
       " 'renting',\n",
       " 'research',\n",
       " 'return',\n",
       " 'right',\n",
       " 'road',\n",
       " 'rome',\n",
       " 'route',\n",
       " 'safe',\n",
       " 'said',\n",
       " 'san',\n",
       " 'save',\n",
       " 'say',\n",
       " 'seeing',\n",
       " 'seen',\n",
       " 'september',\n",
       " 'short',\n",
       " 'similar',\n",
       " 'small',\n",
       " 'solo',\n",
       " 'south',\n",
       " 'spain',\n",
       " 'spend',\n",
       " 'spending',\n",
       " 'start',\n",
       " 'states',\n",
       " 'stay',\n",
       " 'staying',\n",
       " 'stop',\n",
       " 'stuff',\n",
       " 'suggestions',\n",
       " 'summer',\n",
       " 'sure',\n",
       " 'taking',\n",
       " 'th',\n",
       " 'thailand',\n",
       " 'thank',\n",
       " 'thanks',\n",
       " 'thing',\n",
       " 'things',\n",
       " 'think',\n",
       " 'thinking',\n",
       " 'thought',\n",
       " 'ticket',\n",
       " 'tickets',\n",
       " 'time',\n",
       " 'times',\n",
       " 'tips',\n",
       " 'toronto',\n",
       " 'tour',\n",
       " 'tourist',\n",
       " 'town',\n",
       " 'train',\n",
       " 'transport',\n",
       " 'trip',\n",
       " 'trips',\n",
       " 'try',\n",
       " 'trying',\n",
       " 'uk',\n",
       " 'usa',\n",
       " 'use',\n",
       " 'using',\n",
       " 'vacation',\n",
       " 've',\n",
       " 'visa',\n",
       " 'visit',\n",
       " 'visiting',\n",
       " 'walking',\n",
       " 'want',\n",
       " 'wanted',\n",
       " 'way',\n",
       " 'website',\n",
       " 'week',\n",
       " 'weekend',\n",
       " 'weeks',\n",
       " 'went',\n",
       " 'wife',\n",
       " 'won',\n",
       " 'wondering',\n",
       " 'work',\n",
       " 'world',\n",
       " 'worth',\n",
       " 'www',\n",
       " 'year',\n",
       " 'years',\n",
       " 'york']"
      ]
     },
     "execution_count": 84,
     "metadata": {},
     "output_type": "execute_result"
    }
   ],
   "source": [
    "tfidfvect.get_feature_names()"
   ]
  },
  {
   "cell_type": "markdown",
   "metadata": {},
   "source": [
    "### Logistic Regression model\n",
    "\n",
    "This model had the best accuracy score."
   ]
  },
  {
   "cell_type": "code",
   "execution_count": 216,
   "metadata": {},
   "outputs": [
    {
     "name": "stderr",
     "output_type": "stream",
     "text": [
      "/Users/jmiger/anaconda3/envs/dsi/lib/python3.7/site-packages/sklearn/linear_model/logistic.py:432: FutureWarning: Default solver will be changed to 'lbfgs' in 0.22. Specify a solver to silence this warning.\n",
      "  FutureWarning)\n"
     ]
    },
    {
     "data": {
      "text/plain": [
       "LogisticRegression(C=1.0, class_weight=None, dual=False, fit_intercept=True,\n",
       "                   intercept_scaling=1, l1_ratio=None, max_iter=100,\n",
       "                   multi_class='warn', n_jobs=None, penalty='l1',\n",
       "                   random_state=None, solver='warn', tol=0.0001, verbose=0,\n",
       "                   warm_start=False)"
      ]
     },
     "execution_count": 216,
     "metadata": {},
     "output_type": "execute_result"
    }
   ],
   "source": [
    "lr = LogisticRegression(penalty = 'l1')\n",
    "lr.fit(X_train_tfidfvect_df, y_train)"
   ]
  },
  {
   "cell_type": "code",
   "execution_count": 217,
   "metadata": {},
   "outputs": [
    {
     "data": {
      "text/plain": [
       "0.7557535263548627"
      ]
     },
     "execution_count": 217,
     "metadata": {},
     "output_type": "execute_result"
    }
   ],
   "source": [
    "lr.score(X_train_tfidfvect_df, y_train)"
   ]
  },
  {
   "cell_type": "code",
   "execution_count": 218,
   "metadata": {},
   "outputs": [
    {
     "data": {
      "text/plain": [
       "0.7311111111111112"
      ]
     },
     "execution_count": 218,
     "metadata": {},
     "output_type": "execute_result"
    }
   ],
   "source": [
    "lr.score(X_test_tfidfvect_df, y_test)"
   ]
  },
  {
   "cell_type": "code",
   "execution_count": 220,
   "metadata": {},
   "outputs": [
    {
     "name": "stderr",
     "output_type": "stream",
     "text": [
      "/Users/jmiger/anaconda3/envs/dsi/lib/python3.7/site-packages/sklearn/linear_model/logistic.py:432: FutureWarning: Default solver will be changed to 'lbfgs' in 0.22. Specify a solver to silence this warning.\n",
      "  FutureWarning)\n",
      "/Users/jmiger/anaconda3/envs/dsi/lib/python3.7/site-packages/sklearn/linear_model/logistic.py:432: FutureWarning: Default solver will be changed to 'lbfgs' in 0.22. Specify a solver to silence this warning.\n",
      "  FutureWarning)\n",
      "/Users/jmiger/anaconda3/envs/dsi/lib/python3.7/site-packages/sklearn/linear_model/logistic.py:432: FutureWarning: Default solver will be changed to 'lbfgs' in 0.22. Specify a solver to silence this warning.\n",
      "  FutureWarning)\n",
      "/Users/jmiger/anaconda3/envs/dsi/lib/python3.7/site-packages/sklearn/linear_model/logistic.py:432: FutureWarning: Default solver will be changed to 'lbfgs' in 0.22. Specify a solver to silence this warning.\n",
      "  FutureWarning)\n",
      "/Users/jmiger/anaconda3/envs/dsi/lib/python3.7/site-packages/sklearn/linear_model/logistic.py:432: FutureWarning: Default solver will be changed to 'lbfgs' in 0.22. Specify a solver to silence this warning.\n",
      "  FutureWarning)\n"
     ]
    },
    {
     "data": {
      "text/plain": [
       "0.7023474737012994"
      ]
     },
     "execution_count": 220,
     "metadata": {},
     "output_type": "execute_result"
    }
   ],
   "source": [
    "# cross_val_score and lr.score for test data were both around 70.6%, while score for training data was around 78%.\n",
    "    # conclusion: I don't have a bad sample, just need to do some tuning\n",
    "    # Changing the default penalty to Lasso, improved the model\n",
    "\n",
    "cross_val_score(lr, X_train_tfidfvect_df, y_train, cv = 5).mean()"
   ]
  },
  {
   "cell_type": "code",
   "execution_count": 269,
   "metadata": {},
   "outputs": [
    {
     "data": {
      "text/plain": [
       "-0.011015019672314063"
      ]
     },
     "execution_count": 269,
     "metadata": {},
     "output_type": "execute_result"
    }
   ],
   "source": [
    "lr.coef_.mean()"
   ]
  },
  {
   "cell_type": "code",
   "execution_count": 270,
   "metadata": {},
   "outputs": [
    {
     "data": {
      "text/plain": [
       "0.9890454235256434"
      ]
     },
     "execution_count": 270,
     "metadata": {},
     "output_type": "execute_result"
    }
   ],
   "source": [
    "# As X (# of occurances for a word/feature) increases 1 unit, a post is about 0.99 times as likely \n",
    "    #to be from the travel subreddit\n",
    "np.exp(-0.011015019672314063)"
   ]
  },
  {
   "cell_type": "markdown",
   "metadata": {},
   "source": [
    "### Naive Bayes model\n",
    "\n",
    "Tried Gaussian because the values are floats, but Multinomial is the better classifier (maybe slighltly overfit). It treats values from a TFIDF vectorizer the same as those from Count vectorizer. Also, Multinomial score is better."
   ]
  },
  {
   "cell_type": "code",
   "execution_count": 42,
   "metadata": {},
   "outputs": [],
   "source": [
    "gausnb = GaussianNB()"
   ]
  },
  {
   "cell_type": "code",
   "execution_count": 43,
   "metadata": {},
   "outputs": [
    {
     "data": {
      "text/plain": [
       "GaussianNB(priors=None, var_smoothing=1e-09)"
      ]
     },
     "execution_count": 43,
     "metadata": {},
     "output_type": "execute_result"
    }
   ],
   "source": [
    "gausnb.fit(X_train_tfidfvect_df, y_train)"
   ]
  },
  {
   "cell_type": "code",
   "execution_count": 274,
   "metadata": {},
   "outputs": [
    {
     "data": {
      "text/plain": [
       "0.660069992869194"
      ]
     },
     "execution_count": 274,
     "metadata": {},
     "output_type": "execute_result"
    }
   ],
   "source": [
    "cross_val_score(gausnb, X_train_tfidfvect_df, y_train, cv = 5).mean()"
   ]
  },
  {
   "cell_type": "code",
   "execution_count": 44,
   "metadata": {},
   "outputs": [
    {
     "data": {
      "text/plain": [
       "0.755011135857461"
      ]
     },
     "execution_count": 44,
     "metadata": {},
     "output_type": "execute_result"
    }
   ],
   "source": [
    "gausnb.score(X_train_tfidfvect_df, y_train)"
   ]
  },
  {
   "cell_type": "code",
   "execution_count": 45,
   "metadata": {},
   "outputs": [
    {
     "data": {
      "text/plain": [
       "0.6644444444444444"
      ]
     },
     "execution_count": 45,
     "metadata": {},
     "output_type": "execute_result"
    }
   ],
   "source": [
    "# close to the cross val score for \n",
    "gausnb.score(X_test_tfidfvect_df, y_test)"
   ]
  },
  {
   "cell_type": "code",
   "execution_count": 221,
   "metadata": {},
   "outputs": [],
   "source": [
    "nb = MultinomialNB()"
   ]
  },
  {
   "cell_type": "code",
   "execution_count": 223,
   "metadata": {},
   "outputs": [],
   "source": [
    "multi = nb.fit(X_train_tfidfvect_df, y_train)"
   ]
  },
  {
   "cell_type": "code",
   "execution_count": 236,
   "metadata": {},
   "outputs": [],
   "source": [
    "pred = multi.predict(X_test_tfidfvect_df)"
   ]
  },
  {
   "cell_type": "code",
   "execution_count": 273,
   "metadata": {},
   "outputs": [
    {
     "data": {
      "text/plain": [
       "0.7075464067518663"
      ]
     },
     "execution_count": 273,
     "metadata": {},
     "output_type": "execute_result"
    }
   ],
   "source": [
    "cross_val_score(multi, X_train_tfidfvect_df, y_train, cv = 5).mean()"
   ]
  },
  {
   "cell_type": "code",
   "execution_count": 237,
   "metadata": {},
   "outputs": [
    {
     "data": {
      "text/plain": [
       "0.7616926503340757"
      ]
     },
     "execution_count": 237,
     "metadata": {},
     "output_type": "execute_result"
    }
   ],
   "source": [
    "multi.score(X_train_tfidfvect_df, y_train)"
   ]
  },
  {
   "cell_type": "code",
   "execution_count": 238,
   "metadata": {},
   "outputs": [
    {
     "data": {
      "text/plain": [
       "0.6955555555555556"
      ]
     },
     "execution_count": 238,
     "metadata": {},
     "output_type": "execute_result"
    }
   ],
   "source": [
    "multi.score(X_test_tfidfvect_df, y_test)"
   ]
  },
  {
   "cell_type": "code",
   "execution_count": 239,
   "metadata": {},
   "outputs": [],
   "source": [
    "from sklearn.metrics import confusion_matrix"
   ]
  },
  {
   "cell_type": "code",
   "execution_count": 259,
   "metadata": {},
   "outputs": [],
   "source": [
    "cm = confusion_matrix(y_test, pred)"
   ]
  },
  {
   "cell_type": "code",
   "execution_count": 271,
   "metadata": {},
   "outputs": [
    {
     "data": {
      "text/html": [
       "<div>\n",
       "<style scoped>\n",
       "    .dataframe tbody tr th:only-of-type {\n",
       "        vertical-align: middle;\n",
       "    }\n",
       "\n",
       "    .dataframe tbody tr th {\n",
       "        vertical-align: top;\n",
       "    }\n",
       "\n",
       "    .dataframe thead th {\n",
       "        text-align: right;\n",
       "    }\n",
       "</style>\n",
       "<table border=\"1\" class=\"dataframe\">\n",
       "  <thead>\n",
       "    <tr style=\"text-align: right;\">\n",
       "      <th></th>\n",
       "      <th>pred shoestring</th>\n",
       "      <th>pred travel</th>\n",
       "    </tr>\n",
       "  </thead>\n",
       "  <tbody>\n",
       "    <tr>\n",
       "      <th>actual shoestring</th>\n",
       "      <td>97</td>\n",
       "      <td>105</td>\n",
       "    </tr>\n",
       "    <tr>\n",
       "      <th>actual travel</th>\n",
       "      <td>32</td>\n",
       "      <td>216</td>\n",
       "    </tr>\n",
       "  </tbody>\n",
       "</table>\n",
       "</div>"
      ],
      "text/plain": [
       "                   pred shoestring  pred travel\n",
       "actual shoestring               97          105\n",
       "actual travel                   32          216"
      ]
     },
     "execution_count": 271,
     "metadata": {},
     "output_type": "execute_result"
    }
   ],
   "source": [
    "# It looks like my model has incorrectly predicted the Shoestring subreddit more than it correctly predicted it.\n",
    "# It was must better and predicting for travel\n",
    "\n",
    "cm_df = pd.DataFrame(cm,\n",
    "             columns=['pred shoestring', 'pred travel'],\n",
    "            index = ['actual shoestring', 'actual travel'])\n",
    "cm_df"
   ]
  },
  {
   "cell_type": "markdown",
   "metadata": {},
   "source": [
    "### Random Forest Classifier\n",
    "\n",
    "Not as good as the logistic model, but also not extremely overfit. The cross val score and the accuracy score is pretty close to each other, which would mean that my sample isn't bad. I would like to attempt adjusting the parameters some more until I get optimal results. "
   ]
  },
  {
   "cell_type": "code",
   "execution_count": 243,
   "metadata": {},
   "outputs": [],
   "source": [
    "rf = RandomForestClassifier(random_state=42)"
   ]
  },
  {
   "cell_type": "code",
   "execution_count": 244,
   "metadata": {},
   "outputs": [
    {
     "name": "stderr",
     "output_type": "stream",
     "text": [
      "/Users/jmiger/anaconda3/envs/dsi/lib/python3.7/site-packages/sklearn/linear_model/logistic.py:432: FutureWarning: Default solver will be changed to 'lbfgs' in 0.22. Specify a solver to silence this warning.\n",
      "  FutureWarning)\n",
      "/Users/jmiger/anaconda3/envs/dsi/lib/python3.7/site-packages/sklearn/linear_model/logistic.py:432: FutureWarning: Default solver will be changed to 'lbfgs' in 0.22. Specify a solver to silence this warning.\n",
      "  FutureWarning)\n",
      "/Users/jmiger/anaconda3/envs/dsi/lib/python3.7/site-packages/sklearn/linear_model/logistic.py:432: FutureWarning: Default solver will be changed to 'lbfgs' in 0.22. Specify a solver to silence this warning.\n",
      "  FutureWarning)\n",
      "/Users/jmiger/anaconda3/envs/dsi/lib/python3.7/site-packages/sklearn/linear_model/logistic.py:432: FutureWarning: Default solver will be changed to 'lbfgs' in 0.22. Specify a solver to silence this warning.\n",
      "  FutureWarning)\n",
      "/Users/jmiger/anaconda3/envs/dsi/lib/python3.7/site-packages/sklearn/linear_model/logistic.py:432: FutureWarning: Default solver will be changed to 'lbfgs' in 0.22. Specify a solver to silence this warning.\n",
      "  FutureWarning)\n"
     ]
    },
    {
     "data": {
      "text/plain": [
       "0.7023474737012994"
      ]
     },
     "execution_count": 244,
     "metadata": {},
     "output_type": "execute_result"
    }
   ],
   "source": [
    "cross_val_score(lr, X_train_tfidfvect_df, y_train, cv = 5).mean()"
   ]
  },
  {
   "cell_type": "code",
   "execution_count": 246,
   "metadata": {
    "scrolled": true
   },
   "outputs": [
    {
     "name": "stdout",
     "output_type": "stream",
     "text": [
      "0.7676317743132888\n"
     ]
    },
    {
     "data": {
      "text/plain": [
       "{'max_depth': 8, 'min_samples_leaf': 3, 'n_estimators': 100}"
      ]
     },
     "execution_count": 246,
     "metadata": {},
     "output_type": "execute_result"
    }
   ],
   "source": [
    "params = {\n",
    "    'n_estimators': [50, 100],\n",
    "    'max_depth' : [8, 10],\n",
    "    'min_samples_leaf' : [2, 3]\n",
    "}\n",
    "\n",
    "gs = GridSearchCV(rf, param_grid=params, return_train_score=True, cv=5)\n",
    "gs.fit(X_train_tfidfvect_df, y_train)\n",
    "print(gs.score(X_train_tfidfvect_df, y_train))\n",
    "gs.best_params_"
   ]
  },
  {
   "cell_type": "code",
   "execution_count": 247,
   "metadata": {},
   "outputs": [
    {
     "data": {
      "text/plain": [
       "0.7022222222222222"
      ]
     },
     "execution_count": 247,
     "metadata": {},
     "output_type": "execute_result"
    }
   ],
   "source": [
    "gs.score(X_test_tfidfvect_df, y_test)"
   ]
  },
  {
   "cell_type": "code",
   "execution_count": 258,
   "metadata": {},
   "outputs": [
    {
     "name": "stderr",
     "output_type": "stream",
     "text": [
      "/Users/jmiger/anaconda3/envs/dsi/lib/python3.7/site-packages/sklearn/ensemble/forest.py:245: FutureWarning: The default value of n_estimators will change from 10 in version 0.20 to 100 in 0.22.\n",
      "  \"10 in version 0.20 to 100 in 0.22.\", FutureWarning)\n",
      "/Users/jmiger/anaconda3/envs/dsi/lib/python3.7/site-packages/sklearn/ensemble/forest.py:245: FutureWarning: The default value of n_estimators will change from 10 in version 0.20 to 100 in 0.22.\n",
      "  \"10 in version 0.20 to 100 in 0.22.\", FutureWarning)\n",
      "/Users/jmiger/anaconda3/envs/dsi/lib/python3.7/site-packages/sklearn/ensemble/forest.py:245: FutureWarning: The default value of n_estimators will change from 10 in version 0.20 to 100 in 0.22.\n",
      "  \"10 in version 0.20 to 100 in 0.22.\", FutureWarning)\n",
      "/Users/jmiger/anaconda3/envs/dsi/lib/python3.7/site-packages/sklearn/ensemble/forest.py:245: FutureWarning: The default value of n_estimators will change from 10 in version 0.20 to 100 in 0.22.\n",
      "  \"10 in version 0.20 to 100 in 0.22.\", FutureWarning)\n",
      "/Users/jmiger/anaconda3/envs/dsi/lib/python3.7/site-packages/sklearn/ensemble/forest.py:245: FutureWarning: The default value of n_estimators will change from 10 in version 0.20 to 100 in 0.22.\n",
      "  \"10 in version 0.20 to 100 in 0.22.\", FutureWarning)\n"
     ]
    },
    {
     "data": {
      "text/plain": [
       "0.6541054537309323"
      ]
     },
     "execution_count": 258,
     "metadata": {},
     "output_type": "execute_result"
    }
   ],
   "source": [
    "cross_val_score(rf, X_train_tfidfvect_df, y_train, cv = 5).mean()"
   ]
  },
  {
   "cell_type": "code",
   "execution_count": 248,
   "metadata": {
    "scrolled": true
   },
   "outputs": [
    {
     "data": {
      "text/plain": [
       "array([3.03106311e-03, 7.96189416e-04, 9.99674280e-04, 0.00000000e+00,\n",
       "       2.51294228e-03, 2.89421291e-03, 0.00000000e+00, 7.67342039e-04,\n",
       "       2.03116811e-04, 5.69434981e-04, 1.65342600e-03, 0.00000000e+00,\n",
       "       2.91172831e-04, 2.11273783e-04, 3.40643795e-03, 4.36471941e-05,\n",
       "       2.33918616e-03, 3.38839167e-04, 2.67912004e-03, 4.13212031e-04,\n",
       "       2.13490787e-03, 1.93835148e-03, 2.78470701e-06, 0.00000000e+00,\n",
       "       0.00000000e+00, 6.69018886e-04, 7.52384756e-04, 1.21695945e-02,\n",
       "       1.06420844e-03, 1.85584810e-03, 5.92971034e-03, 8.74596150e-04,\n",
       "       5.15489417e-04, 3.57474958e-04, 8.60333570e-04, 5.76815256e-02,\n",
       "       3.24100102e-03, 1.01665926e-03, 2.64890700e-05, 1.70632340e-03,\n",
       "       1.86958318e-03, 3.39637586e-04, 5.70808014e-04, 1.28739351e-01,\n",
       "       2.60747311e-02, 4.86469927e-02, 2.21248558e-04, 0.00000000e+00,\n",
       "       0.00000000e+00, 2.02288361e-03, 2.54472630e-03, 2.33196620e-04,\n",
       "       1.23124894e-04, 3.15312827e-03, 3.38084131e-04, 8.27382419e-04,\n",
       "       4.97224231e-03, 5.00090753e-03, 1.34200604e-03, 1.82509009e-04,\n",
       "       2.42766683e-06, 2.27775794e-02, 4.22770853e-03, 1.97636142e-04,\n",
       "       1.21074759e-04, 1.60439713e-03, 7.63504609e-04, 9.20343689e-04,\n",
       "       1.34821676e-03, 1.45741443e-03, 2.05178415e-03, 1.69549921e-04,\n",
       "       4.75424519e-03, 1.62036739e-03, 2.52050340e-03, 3.85836804e-03,\n",
       "       1.19505221e-03, 7.70188291e-04, 1.62276809e-03, 1.22644681e-03,\n",
       "       3.68448149e-03, 2.40025807e-03, 7.11606205e-04, 9.96214281e-04,\n",
       "       1.76152851e-02, 9.55453254e-04, 8.66759046e-04, 1.10861645e-03,\n",
       "       3.61511876e-04, 2.43335838e-03, 3.33918147e-04, 6.70844110e-03,\n",
       "       1.61580693e-02, 1.51322947e-03, 1.30303462e-03, 3.86742641e-03,\n",
       "       3.21175528e-03, 2.18022093e-03, 1.26465847e-03, 5.60625210e-04,\n",
       "       7.97218070e-03, 6.58935260e-04, 2.33626624e-04, 4.87013677e-03,\n",
       "       4.99040998e-03, 1.22267774e-04, 1.60089846e-03, 7.54262096e-04,\n",
       "       0.00000000e+00, 2.92160910e-03, 7.11521165e-04, 3.48425947e-03,\n",
       "       3.69081620e-04, 5.81762701e-04, 5.53524563e-03, 2.26805820e-03,\n",
       "       2.46518107e-03, 9.98529094e-04, 3.06050261e-04, 5.33962586e-04,\n",
       "       1.02709947e-03, 6.83212700e-03, 2.74644250e-03, 4.85535698e-04,\n",
       "       0.00000000e+00, 1.25923751e-03, 6.26092530e-03, 7.19376494e-04,\n",
       "       1.52585695e-02, 1.04207777e-03, 2.27430713e-03, 6.36663543e-04,\n",
       "       1.86193530e-05, 6.30290657e-04, 5.80273749e-04, 2.82473416e-02,\n",
       "       0.00000000e+00, 6.55721492e-04, 2.15287618e-02, 2.95834217e-03,\n",
       "       0.00000000e+00, 8.37377161e-03, 3.35086579e-04, 8.63449922e-04,\n",
       "       3.28961488e-03, 5.00572573e-04, 2.51696882e-04, 7.15610959e-04,\n",
       "       5.94617285e-03, 7.74356664e-03, 3.17540240e-03, 1.33146293e-03,\n",
       "       0.00000000e+00, 3.99314863e-03, 1.13007960e-04, 1.09409590e-04,\n",
       "       1.16243600e-03, 9.17812168e-04, 5.84278188e-04, 1.65437924e-02,\n",
       "       1.05950448e-03, 2.83353041e-03, 0.00000000e+00, 8.19216473e-04,\n",
       "       2.02837158e-03, 6.33576834e-03, 0.00000000e+00, 1.63019776e-03,\n",
       "       1.75330525e-02, 4.10145952e-03, 3.25556446e-03, 1.86138523e-03,\n",
       "       2.57467865e-03, 0.00000000e+00, 1.80201642e-05, 0.00000000e+00,\n",
       "       6.03874566e-03, 5.38383637e-04, 8.99073201e-03, 5.83589471e-03,\n",
       "       7.23022289e-04, 4.49612883e-04, 3.71551705e-04, 3.90421645e-04,\n",
       "       3.03868655e-03, 3.22198519e-04, 1.44244745e-03, 7.76187393e-04,\n",
       "       1.72602148e-03, 4.78137742e-04, 6.27265466e-04, 3.04024020e-04,\n",
       "       1.58307886e-03, 2.64864765e-03, 2.26243355e-03, 1.61755005e-03,\n",
       "       4.17979257e-03, 2.48456080e-03, 5.08850774e-04, 2.98556484e-03,\n",
       "       6.98544093e-03, 2.83017996e-04, 5.97885549e-03, 7.98213140e-04,\n",
       "       3.15360074e-04, 1.01073940e-03, 2.69286060e-03, 3.73469135e-04,\n",
       "       5.51150160e-03, 5.25773961e-05, 5.83500834e-05, 3.60091875e-03,\n",
       "       2.97265646e-04, 3.35269717e-03, 1.84113901e-03, 6.68963744e-04,\n",
       "       1.35020657e-03, 3.38694940e-04, 1.48977245e-03, 2.67410894e-03,\n",
       "       1.06295965e-03, 0.00000000e+00, 7.51085621e-04, 1.48779365e-04,\n",
       "       6.73131103e-04, 2.39412010e-02, 1.09758895e-03, 9.10609140e-04,\n",
       "       1.33014423e-03, 0.00000000e+00, 2.73982801e-05, 8.38011739e-05,\n",
       "       2.45791612e-04, 2.80994338e-04, 1.43992470e-03, 1.96816987e-04,\n",
       "       3.06862560e-03, 3.03908751e-05, 0.00000000e+00, 6.31223668e-04,\n",
       "       2.36125227e-03, 6.65445531e-04, 2.05490075e-04, 7.92175710e-04,\n",
       "       7.29533600e-03, 1.42353499e-02, 1.05029778e-03, 5.43593182e-04,\n",
       "       1.54172160e-03, 2.11028261e-04, 9.56547062e-04, 6.56649284e-03,\n",
       "       0.00000000e+00, 4.92925500e-03, 6.60375938e-04, 6.32644811e-04,\n",
       "       2.76011992e-04, 2.15663808e-03, 4.97843716e-03, 2.53410930e-02,\n",
       "       4.39848689e-05, 2.20832511e-02, 1.02114231e-04, 5.88795949e-04,\n",
       "       3.40595084e-03, 6.43651942e-04, 3.51908229e-03, 2.03216076e-05,\n",
       "       8.09112239e-03, 1.44461216e-04, 9.27555487e-05, 4.68834054e-04,\n",
       "       2.44320719e-04, 2.07756966e-04, 1.07113495e-03, 6.97072437e-04,\n",
       "       6.66386884e-04, 4.13717176e-03, 1.14873961e-02, 1.54743028e-03,\n",
       "       3.15906616e-03, 0.00000000e+00, 2.57654941e-03, 2.64883080e-03,\n",
       "       8.18791237e-03, 2.69850764e-04, 3.95028029e-03, 2.29438664e-03,\n",
       "       2.24345432e-03, 4.45864396e-04, 3.56227348e-03, 4.66879769e-04,\n",
       "       2.24768400e-03, 1.83617325e-03, 4.09898405e-04, 2.02040300e-03,\n",
       "       2.08600459e-03, 1.76151393e-03, 0.00000000e+00, 1.17591066e-04])"
      ]
     },
     "execution_count": 248,
     "metadata": {},
     "output_type": "execute_result"
    }
   ],
   "source": [
    "gs.best_estimator_.feature_importances_"
   ]
  },
  {
   "cell_type": "code",
   "execution_count": 249,
   "metadata": {},
   "outputs": [],
   "source": [
    "feat_ratings = pd.DataFrame(gs.best_estimator_.feature_importances_, X_train_tfidfvect_df.columns, columns=['importance'])"
   ]
  },
  {
   "cell_type": "code",
   "execution_count": 257,
   "metadata": {
    "scrolled": true
   },
   "outputs": [
    {
     "data": {
      "text/html": [
       "<div>\n",
       "<style scoped>\n",
       "    .dataframe tbody tr th:only-of-type {\n",
       "        vertical-align: middle;\n",
       "    }\n",
       "\n",
       "    .dataframe tbody tr th {\n",
       "        vertical-align: top;\n",
       "    }\n",
       "\n",
       "    .dataframe thead th {\n",
       "        text-align: right;\n",
       "    }\n",
       "</style>\n",
       "<table border=\"1\" class=\"dataframe\">\n",
       "  <thead>\n",
       "    <tr style=\"text-align: right;\">\n",
       "      <th></th>\n",
       "      <th>importance</th>\n",
       "    </tr>\n",
       "  </thead>\n",
       "  <tbody>\n",
       "    <tr>\n",
       "      <th>cheap</th>\n",
       "      <td>0.128739</td>\n",
       "    </tr>\n",
       "    <tr>\n",
       "      <th>budget</th>\n",
       "      <td>0.057682</td>\n",
       "    </tr>\n",
       "    <tr>\n",
       "      <th>cheapest</th>\n",
       "      <td>0.048647</td>\n",
       "    </tr>\n",
       "    <tr>\n",
       "      <th>itinerary</th>\n",
       "      <td>0.028247</td>\n",
       "    </tr>\n",
       "    <tr>\n",
       "      <th>cheaper</th>\n",
       "      <td>0.026075</td>\n",
       "    </tr>\n",
       "    <tr>\n",
       "      <th>time</th>\n",
       "      <td>0.025341</td>\n",
       "    </tr>\n",
       "    <tr>\n",
       "      <th>save</th>\n",
       "      <td>0.023941</td>\n",
       "    </tr>\n",
       "    <tr>\n",
       "      <th>day</th>\n",
       "      <td>0.022778</td>\n",
       "    </tr>\n",
       "    <tr>\n",
       "      <th>tips</th>\n",
       "      <td>0.022083</td>\n",
       "    </tr>\n",
       "    <tr>\n",
       "      <th>june</th>\n",
       "      <td>0.021529</td>\n",
       "    </tr>\n",
       "    <tr>\n",
       "      <th>expensive</th>\n",
       "      <td>0.017615</td>\n",
       "    </tr>\n",
       "    <tr>\n",
       "      <th>money</th>\n",
       "      <td>0.017533</td>\n",
       "    </tr>\n",
       "    <tr>\n",
       "      <th>looking</th>\n",
       "      <td>0.016544</td>\n",
       "    </tr>\n",
       "    <tr>\n",
       "      <th>flights</th>\n",
       "      <td>0.016158</td>\n",
       "    </tr>\n",
       "    <tr>\n",
       "      <th>ideas</th>\n",
       "      <td>0.015259</td>\n",
       "    </tr>\n",
       "    <tr>\n",
       "      <th>summer</th>\n",
       "      <td>0.014235</td>\n",
       "    </tr>\n",
       "    <tr>\n",
       "      <th>best</th>\n",
       "      <td>0.012170</td>\n",
       "    </tr>\n",
       "    <tr>\n",
       "      <th>visa</th>\n",
       "      <td>0.011487</td>\n",
       "    </tr>\n",
       "    <tr>\n",
       "      <th>nice</th>\n",
       "      <td>0.008991</td>\n",
       "    </tr>\n",
       "    <tr>\n",
       "      <th>know</th>\n",
       "      <td>0.008374</td>\n",
       "    </tr>\n",
       "    <tr>\n",
       "      <th>way</th>\n",
       "      <td>0.008188</td>\n",
       "    </tr>\n",
       "    <tr>\n",
       "      <th>trip</th>\n",
       "      <td>0.008091</td>\n",
       "    </tr>\n",
       "    <tr>\n",
       "      <th>fun</th>\n",
       "      <td>0.007972</td>\n",
       "    </tr>\n",
       "    <tr>\n",
       "      <th>ling</th>\n",
       "      <td>0.007744</td>\n",
       "    </tr>\n",
       "    <tr>\n",
       "      <th>suggestions</th>\n",
       "      <td>0.007295</td>\n",
       "    </tr>\n",
       "    <tr>\n",
       "      <th>pm</th>\n",
       "      <td>0.006985</td>\n",
       "    </tr>\n",
       "    <tr>\n",
       "      <th>hostels</th>\n",
       "      <td>0.006832</td>\n",
       "    </tr>\n",
       "    <tr>\n",
       "      <th>flight</th>\n",
       "      <td>0.006708</td>\n",
       "    </tr>\n",
       "    <tr>\n",
       "      <th>thanks</th>\n",
       "      <td>0.006566</td>\n",
       "    </tr>\n",
       "    <tr>\n",
       "      <th>maybe</th>\n",
       "      <td>0.006336</td>\n",
       "    </tr>\n",
       "    <tr>\n",
       "      <th>...</th>\n",
       "      <td>...</td>\n",
       "    </tr>\n",
       "    <tr>\n",
       "      <th>spending</th>\n",
       "      <td>0.000030</td>\n",
       "    </tr>\n",
       "    <tr>\n",
       "      <th>short</th>\n",
       "      <td>0.000027</td>\n",
       "    </tr>\n",
       "    <tr>\n",
       "      <th>canada</th>\n",
       "      <td>0.000026</td>\n",
       "    </tr>\n",
       "    <tr>\n",
       "      <th>transport</th>\n",
       "      <td>0.000020</td>\n",
       "    </tr>\n",
       "    <tr>\n",
       "      <th>island</th>\n",
       "      <td>0.000019</td>\n",
       "    </tr>\n",
       "    <tr>\n",
       "      <th>nature</th>\n",
       "      <td>0.000018</td>\n",
       "    </tr>\n",
       "    <tr>\n",
       "      <th>australia</th>\n",
       "      <td>0.000003</td>\n",
       "    </tr>\n",
       "    <tr>\n",
       "      <th>currently</th>\n",
       "      <td>0.000002</td>\n",
       "    </tr>\n",
       "    <tr>\n",
       "      <th>china</th>\n",
       "      <td>0.000000</td>\n",
       "    </tr>\n",
       "    <tr>\n",
       "      <th>japan</th>\n",
       "      <td>0.000000</td>\n",
       "    </tr>\n",
       "    <tr>\n",
       "      <th>amazing</th>\n",
       "      <td>0.000000</td>\n",
       "    </tr>\n",
       "    <tr>\n",
       "      <th>hour</th>\n",
       "      <td>0.000000</td>\n",
       "    </tr>\n",
       "    <tr>\n",
       "      <th>checked</th>\n",
       "      <td>0.000000</td>\n",
       "    </tr>\n",
       "    <tr>\n",
       "      <th>gt</th>\n",
       "      <td>0.000000</td>\n",
       "    </tr>\n",
       "    <tr>\n",
       "      <th>start</th>\n",
       "      <td>0.000000</td>\n",
       "    </tr>\n",
       "    <tr>\n",
       "      <th>years</th>\n",
       "      <td>0.000000</td>\n",
       "    </tr>\n",
       "    <tr>\n",
       "      <th>kind</th>\n",
       "      <td>0.000000</td>\n",
       "    </tr>\n",
       "    <tr>\n",
       "      <th>living</th>\n",
       "      <td>0.000000</td>\n",
       "    </tr>\n",
       "    <tr>\n",
       "      <th>actually</th>\n",
       "      <td>0.000000</td>\n",
       "    </tr>\n",
       "    <tr>\n",
       "      <th>september</th>\n",
       "      <td>0.000000</td>\n",
       "    </tr>\n",
       "    <tr>\n",
       "      <th>luggage</th>\n",
       "      <td>0.000000</td>\n",
       "    </tr>\n",
       "    <tr>\n",
       "      <th>walking</th>\n",
       "      <td>0.000000</td>\n",
       "    </tr>\n",
       "    <tr>\n",
       "      <th>mexico</th>\n",
       "      <td>0.000000</td>\n",
       "    </tr>\n",
       "    <tr>\n",
       "      <th>air</th>\n",
       "      <td>0.000000</td>\n",
       "    </tr>\n",
       "    <tr>\n",
       "      <th>thing</th>\n",
       "      <td>0.000000</td>\n",
       "    </tr>\n",
       "    <tr>\n",
       "      <th>near</th>\n",
       "      <td>0.000000</td>\n",
       "    </tr>\n",
       "    <tr>\n",
       "      <th>bag</th>\n",
       "      <td>0.000000</td>\n",
       "    </tr>\n",
       "    <tr>\n",
       "      <th>avoid</th>\n",
       "      <td>0.000000</td>\n",
       "    </tr>\n",
       "    <tr>\n",
       "      <th>route</th>\n",
       "      <td>0.000000</td>\n",
       "    </tr>\n",
       "    <tr>\n",
       "      <th>national</th>\n",
       "      <td>0.000000</td>\n",
       "    </tr>\n",
       "  </tbody>\n",
       "</table>\n",
       "<p>300 rows × 1 columns</p>\n",
       "</div>"
      ],
      "text/plain": [
       "             importance\n",
       "cheap          0.128739\n",
       "budget         0.057682\n",
       "cheapest       0.048647\n",
       "itinerary      0.028247\n",
       "cheaper        0.026075\n",
       "time           0.025341\n",
       "save           0.023941\n",
       "day            0.022778\n",
       "tips           0.022083\n",
       "june           0.021529\n",
       "expensive      0.017615\n",
       "money          0.017533\n",
       "looking        0.016544\n",
       "flights        0.016158\n",
       "ideas          0.015259\n",
       "summer         0.014235\n",
       "best           0.012170\n",
       "visa           0.011487\n",
       "nice           0.008991\n",
       "know           0.008374\n",
       "way            0.008188\n",
       "trip           0.008091\n",
       "fun            0.007972\n",
       "ling           0.007744\n",
       "suggestions    0.007295\n",
       "pm             0.006985\n",
       "hostels        0.006832\n",
       "flight         0.006708\n",
       "thanks         0.006566\n",
       "maybe          0.006336\n",
       "...                 ...\n",
       "spending       0.000030\n",
       "short          0.000027\n",
       "canada         0.000026\n",
       "transport      0.000020\n",
       "island         0.000019\n",
       "nature         0.000018\n",
       "australia      0.000003\n",
       "currently      0.000002\n",
       "china          0.000000\n",
       "japan          0.000000\n",
       "amazing        0.000000\n",
       "hour           0.000000\n",
       "checked        0.000000\n",
       "gt             0.000000\n",
       "start          0.000000\n",
       "years          0.000000\n",
       "kind           0.000000\n",
       "living         0.000000\n",
       "actually       0.000000\n",
       "september      0.000000\n",
       "luggage        0.000000\n",
       "walking        0.000000\n",
       "mexico         0.000000\n",
       "air            0.000000\n",
       "thing          0.000000\n",
       "near           0.000000\n",
       "bag            0.000000\n",
       "avoid          0.000000\n",
       "route          0.000000\n",
       "national       0.000000\n",
       "\n",
       "[300 rows x 1 columns]"
      ]
     },
     "execution_count": 257,
     "metadata": {},
     "output_type": "execute_result"
    }
   ],
   "source": [
    "# most important features on the top\n",
    "\n",
    "feat_ratings.sort_values(by = 'importance', ascending = False)"
   ]
  },
  {
   "cell_type": "code",
   "execution_count": 272,
   "metadata": {
    "scrolled": true
   },
   "outputs": [
    {
     "data": {
      "text/html": [
       "<div>\n",
       "<style scoped>\n",
       "    .dataframe tbody tr th:only-of-type {\n",
       "        vertical-align: middle;\n",
       "    }\n",
       "\n",
       "    .dataframe tbody tr th {\n",
       "        vertical-align: top;\n",
       "    }\n",
       "\n",
       "    .dataframe thead th {\n",
       "        text-align: right;\n",
       "    }\n",
       "</style>\n",
       "<table border=\"1\" class=\"dataframe\">\n",
       "  <thead>\n",
       "    <tr style=\"text-align: right;\">\n",
       "      <th></th>\n",
       "      <th>importance</th>\n",
       "    </tr>\n",
       "  </thead>\n",
       "  <tbody>\n",
       "    <tr>\n",
       "      <th>near</th>\n",
       "      <td>0.000000</td>\n",
       "    </tr>\n",
       "    <tr>\n",
       "      <th>checked</th>\n",
       "      <td>0.000000</td>\n",
       "    </tr>\n",
       "    <tr>\n",
       "      <th>china</th>\n",
       "      <td>0.000000</td>\n",
       "    </tr>\n",
       "    <tr>\n",
       "      <th>national</th>\n",
       "      <td>0.000000</td>\n",
       "    </tr>\n",
       "    <tr>\n",
       "      <th>mexico</th>\n",
       "      <td>0.000000</td>\n",
       "    </tr>\n",
       "    <tr>\n",
       "      <th>luggage</th>\n",
       "      <td>0.000000</td>\n",
       "    </tr>\n",
       "    <tr>\n",
       "      <th>living</th>\n",
       "      <td>0.000000</td>\n",
       "    </tr>\n",
       "    <tr>\n",
       "      <th>bag</th>\n",
       "      <td>0.000000</td>\n",
       "    </tr>\n",
       "    <tr>\n",
       "      <th>avoid</th>\n",
       "      <td>0.000000</td>\n",
       "    </tr>\n",
       "    <tr>\n",
       "      <th>years</th>\n",
       "      <td>0.000000</td>\n",
       "    </tr>\n",
       "    <tr>\n",
       "      <th>walking</th>\n",
       "      <td>0.000000</td>\n",
       "    </tr>\n",
       "    <tr>\n",
       "      <th>start</th>\n",
       "      <td>0.000000</td>\n",
       "    </tr>\n",
       "    <tr>\n",
       "      <th>kind</th>\n",
       "      <td>0.000000</td>\n",
       "    </tr>\n",
       "    <tr>\n",
       "      <th>thing</th>\n",
       "      <td>0.000000</td>\n",
       "    </tr>\n",
       "    <tr>\n",
       "      <th>actually</th>\n",
       "      <td>0.000000</td>\n",
       "    </tr>\n",
       "    <tr>\n",
       "      <th>route</th>\n",
       "      <td>0.000000</td>\n",
       "    </tr>\n",
       "    <tr>\n",
       "      <th>amazing</th>\n",
       "      <td>0.000000</td>\n",
       "    </tr>\n",
       "    <tr>\n",
       "      <th>gt</th>\n",
       "      <td>0.000000</td>\n",
       "    </tr>\n",
       "    <tr>\n",
       "      <th>hour</th>\n",
       "      <td>0.000000</td>\n",
       "    </tr>\n",
       "    <tr>\n",
       "      <th>september</th>\n",
       "      <td>0.000000</td>\n",
       "    </tr>\n",
       "    <tr>\n",
       "      <th>air</th>\n",
       "      <td>0.000000</td>\n",
       "    </tr>\n",
       "    <tr>\n",
       "      <th>japan</th>\n",
       "      <td>0.000000</td>\n",
       "    </tr>\n",
       "    <tr>\n",
       "      <th>currently</th>\n",
       "      <td>0.000002</td>\n",
       "    </tr>\n",
       "    <tr>\n",
       "      <th>australia</th>\n",
       "      <td>0.000003</td>\n",
       "    </tr>\n",
       "    <tr>\n",
       "      <th>nature</th>\n",
       "      <td>0.000018</td>\n",
       "    </tr>\n",
       "    <tr>\n",
       "      <th>island</th>\n",
       "      <td>0.000019</td>\n",
       "    </tr>\n",
       "    <tr>\n",
       "      <th>transport</th>\n",
       "      <td>0.000020</td>\n",
       "    </tr>\n",
       "    <tr>\n",
       "      <th>canada</th>\n",
       "      <td>0.000026</td>\n",
       "    </tr>\n",
       "    <tr>\n",
       "      <th>short</th>\n",
       "      <td>0.000027</td>\n",
       "    </tr>\n",
       "    <tr>\n",
       "      <th>spending</th>\n",
       "      <td>0.000030</td>\n",
       "    </tr>\n",
       "    <tr>\n",
       "      <th>...</th>\n",
       "      <td>...</td>\n",
       "    </tr>\n",
       "    <tr>\n",
       "      <th>maybe</th>\n",
       "      <td>0.006336</td>\n",
       "    </tr>\n",
       "    <tr>\n",
       "      <th>thanks</th>\n",
       "      <td>0.006566</td>\n",
       "    </tr>\n",
       "    <tr>\n",
       "      <th>flight</th>\n",
       "      <td>0.006708</td>\n",
       "    </tr>\n",
       "    <tr>\n",
       "      <th>hostels</th>\n",
       "      <td>0.006832</td>\n",
       "    </tr>\n",
       "    <tr>\n",
       "      <th>pm</th>\n",
       "      <td>0.006985</td>\n",
       "    </tr>\n",
       "    <tr>\n",
       "      <th>suggestions</th>\n",
       "      <td>0.007295</td>\n",
       "    </tr>\n",
       "    <tr>\n",
       "      <th>ling</th>\n",
       "      <td>0.007744</td>\n",
       "    </tr>\n",
       "    <tr>\n",
       "      <th>fun</th>\n",
       "      <td>0.007972</td>\n",
       "    </tr>\n",
       "    <tr>\n",
       "      <th>trip</th>\n",
       "      <td>0.008091</td>\n",
       "    </tr>\n",
       "    <tr>\n",
       "      <th>way</th>\n",
       "      <td>0.008188</td>\n",
       "    </tr>\n",
       "    <tr>\n",
       "      <th>know</th>\n",
       "      <td>0.008374</td>\n",
       "    </tr>\n",
       "    <tr>\n",
       "      <th>nice</th>\n",
       "      <td>0.008991</td>\n",
       "    </tr>\n",
       "    <tr>\n",
       "      <th>visa</th>\n",
       "      <td>0.011487</td>\n",
       "    </tr>\n",
       "    <tr>\n",
       "      <th>best</th>\n",
       "      <td>0.012170</td>\n",
       "    </tr>\n",
       "    <tr>\n",
       "      <th>summer</th>\n",
       "      <td>0.014235</td>\n",
       "    </tr>\n",
       "    <tr>\n",
       "      <th>ideas</th>\n",
       "      <td>0.015259</td>\n",
       "    </tr>\n",
       "    <tr>\n",
       "      <th>flights</th>\n",
       "      <td>0.016158</td>\n",
       "    </tr>\n",
       "    <tr>\n",
       "      <th>looking</th>\n",
       "      <td>0.016544</td>\n",
       "    </tr>\n",
       "    <tr>\n",
       "      <th>money</th>\n",
       "      <td>0.017533</td>\n",
       "    </tr>\n",
       "    <tr>\n",
       "      <th>expensive</th>\n",
       "      <td>0.017615</td>\n",
       "    </tr>\n",
       "    <tr>\n",
       "      <th>june</th>\n",
       "      <td>0.021529</td>\n",
       "    </tr>\n",
       "    <tr>\n",
       "      <th>tips</th>\n",
       "      <td>0.022083</td>\n",
       "    </tr>\n",
       "    <tr>\n",
       "      <th>day</th>\n",
       "      <td>0.022778</td>\n",
       "    </tr>\n",
       "    <tr>\n",
       "      <th>save</th>\n",
       "      <td>0.023941</td>\n",
       "    </tr>\n",
       "    <tr>\n",
       "      <th>time</th>\n",
       "      <td>0.025341</td>\n",
       "    </tr>\n",
       "    <tr>\n",
       "      <th>cheaper</th>\n",
       "      <td>0.026075</td>\n",
       "    </tr>\n",
       "    <tr>\n",
       "      <th>itinerary</th>\n",
       "      <td>0.028247</td>\n",
       "    </tr>\n",
       "    <tr>\n",
       "      <th>cheapest</th>\n",
       "      <td>0.048647</td>\n",
       "    </tr>\n",
       "    <tr>\n",
       "      <th>budget</th>\n",
       "      <td>0.057682</td>\n",
       "    </tr>\n",
       "    <tr>\n",
       "      <th>cheap</th>\n",
       "      <td>0.128739</td>\n",
       "    </tr>\n",
       "  </tbody>\n",
       "</table>\n",
       "<p>300 rows × 1 columns</p>\n",
       "</div>"
      ],
      "text/plain": [
       "             importance\n",
       "near           0.000000\n",
       "checked        0.000000\n",
       "china          0.000000\n",
       "national       0.000000\n",
       "mexico         0.000000\n",
       "luggage        0.000000\n",
       "living         0.000000\n",
       "bag            0.000000\n",
       "avoid          0.000000\n",
       "years          0.000000\n",
       "walking        0.000000\n",
       "start          0.000000\n",
       "kind           0.000000\n",
       "thing          0.000000\n",
       "actually       0.000000\n",
       "route          0.000000\n",
       "amazing        0.000000\n",
       "gt             0.000000\n",
       "hour           0.000000\n",
       "september      0.000000\n",
       "air            0.000000\n",
       "japan          0.000000\n",
       "currently      0.000002\n",
       "australia      0.000003\n",
       "nature         0.000018\n",
       "island         0.000019\n",
       "transport      0.000020\n",
       "canada         0.000026\n",
       "short          0.000027\n",
       "spending       0.000030\n",
       "...                 ...\n",
       "maybe          0.006336\n",
       "thanks         0.006566\n",
       "flight         0.006708\n",
       "hostels        0.006832\n",
       "pm             0.006985\n",
       "suggestions    0.007295\n",
       "ling           0.007744\n",
       "fun            0.007972\n",
       "trip           0.008091\n",
       "way            0.008188\n",
       "know           0.008374\n",
       "nice           0.008991\n",
       "visa           0.011487\n",
       "best           0.012170\n",
       "summer         0.014235\n",
       "ideas          0.015259\n",
       "flights        0.016158\n",
       "looking        0.016544\n",
       "money          0.017533\n",
       "expensive      0.017615\n",
       "june           0.021529\n",
       "tips           0.022083\n",
       "day            0.022778\n",
       "save           0.023941\n",
       "time           0.025341\n",
       "cheaper        0.026075\n",
       "itinerary      0.028247\n",
       "cheapest       0.048647\n",
       "budget         0.057682\n",
       "cheap          0.128739\n",
       "\n",
       "[300 rows x 1 columns]"
      ]
     },
     "execution_count": 272,
     "metadata": {},
     "output_type": "execute_result"
    }
   ],
   "source": [
    "# least important features on the top\n",
    "\n",
    "feat_ratings.sort_values(by = 'importance', ascending = True)"
   ]
  },
  {
   "cell_type": "code",
   "execution_count": 251,
   "metadata": {},
   "outputs": [
    {
     "data": {
      "image/png": "[encoded data removed]",
      "text/plain": [
       "<Figure size 1440x720 with 1 Axes>"
      ]
     },
     "metadata": {
      "needs_background": "light"
     },
     "output_type": "display_data"
    }
   ],
   "source": [
    "plt.figure(figsize=(20,10))\n",
    "temp = feat_ratings.sort_values('importance', ascending=False).head(20)\n",
    "plt.barh(temp.index, temp['importance'])\n",
    "plt.title('Top 20 Features', fontsize=30)\n",
    "plt.xlabel('Amount of information gained', fontsize=20)\n",
    "plt.ylabel('Feature', fontsize=20);"
   ]
  }
 ],
 "metadata": {
  "kernelspec": {
   "display_name": "Python 3",
   "language": "python",
   "name": "python3"
  },
  "language_info": {
   "codemirror_mode": {
    "name": "ipython",
    "version": 3
   },
   "file_extension": ".py",
   "mimetype": "text/x-python",
   "name": "python",
   "nbconvert_exporter": "python",
   "pygments_lexer": "ipython3",
   "version": "3.7.3"
  }
 },
 "nbformat": 4,
 "nbformat_minor": 2
}
